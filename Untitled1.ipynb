{
 "cells": [
  {
   "cell_type": "code",
   "execution_count": 6,
   "id": "4f0dc4a8",
   "metadata": {},
   "outputs": [],
   "source": [
    "import bs4\n",
    "from urllib.request import urlopen as uReq\n",
    "from bs4 import BeautifulSoup \n",
    "import requests\n",
    "import mysql.connector\n",
    "import pandas as pd\n",
    "import json\n",
    "import csv\n",
    "import json "
   ]
  },
  {
   "cell_type": "code",
   "execution_count": 7,
   "id": "238368ff",
   "metadata": {},
   "outputs": [],
   "source": [
    "url = 'https://www.cases.sheriahub.com/'"
   ]
  },
  {
   "cell_type": "code",
   "execution_count": 9,
   "id": "cd6143c0",
   "metadata": {},
   "outputs": [],
   "source": [
    "page = requests.get(url)"
   ]
  },
  {
   "cell_type": "code",
   "execution_count": 10,
   "id": "a2a49d77",
   "metadata": {},
   "outputs": [],
   "source": [
    "bSoup = BeautifulSoup(page.content, 'html.parser')\n",
    "links_list = bSoup.find_all(\"a\", {\"class\":\"btn btn-primary\"})"
   ]
  },
  {
   "cell_type": "code",
   "execution_count": 11,
   "id": "2524c37e",
   "metadata": {},
   "outputs": [],
   "source": [
    "url_list = []\n",
    "for link in links_list:\n",
    "    if 'href' in link.attrs:\n",
    "        url_list.append(url+str(link.attrs['href']))"
   ]
  },
  {
   "cell_type": "code",
   "execution_count": 25,
   "id": "562f64c2",
   "metadata": {},
   "outputs": [],
   "source": [
    "li = ['[Case Number',' Parties',' Case Class',' Judges',' Advocates',\n",
    "        ' Case Action',' Case Outcome',' Date Delivered', \n",
    "        ' Court County',' Case Court', ' Court Division']"
   ]
  },
  {
   "cell_type": "code",
   "execution_count": 41,
   "id": "6bc1c428",
   "metadata": {},
   "outputs": [
    {
     "data": {
      "text/plain": [
       "['Judicial Review 06 of 2020',\n",
       " 'Parties',\n",
       " 'Francis Manthi Kitobe v County Surveyor Makueni County; Tabitha Maka',\n",
       " 'Titus Mutuku Kimandi & Nicholas Kyalo Kimandi (Interested parties)',\n",
       " 'Case Class',\n",
       " 'Civil',\n",
       " 'Judges',\n",
       " 'Charles Gitonga Mbogo ',\n",
       " 'Advocates',\n",
       " '1.Ms Ndungu h/b for Mrs.  Makworo 2.Mr.  Asiimwe h/b for Ombachi ',\n",
       " 'Case Action',\n",
       " 'Ruling',\n",
       " 'Case Outcome',\n",
       " 'Preliminary Objection allowed',\n",
       " 'Date Delivered',\n",
       " '09 Sep 2021',\n",
       " 'Court County',\n",
       " 'Makueni',\n",
       " 'Case Court',\n",
       " 'Environment and Land Court at Makueni',\n",
       " 'Court Division',\n",
       " 'Environment and Land]']"
      ]
     },
     "execution_count": 41,
     "metadata": {},
     "output_type": "execute_result"
    }
   ],
   "source": [
    "#0\n",
    "info = []\n",
    "page = requests.get(url_list[0])\n",
    "bSoup = BeautifulSoup(page.content, 'html.parser')\n",
    "table = bSoup.find('table').find_all('td')\n",
    "table = BeautifulSoup(str(table), 'lxml').get_text()\n",
    "table = table.split(\", \")\n",
    "table = [x for x in table if x not in li]\n",
    "info.extend(table)\n",
    "table\n"
   ]
  },
  {
   "cell_type": "code",
   "execution_count": 40,
   "id": "e244e67f",
   "metadata": {},
   "outputs": [
    {
     "data": {
      "text/plain": [
       "['[Case Number, Judicial Review 06 of 2020, Parties, Francis Manthi Kitobe v County Surveyor Makueni County; Tabitha Maka, Titus Mutuku Kimandi & Nicholas Kyalo Kimandi (Interested parties), Case Class, Civil, Judges, Charles Gitonga Mbogo , Advocates, 1.Ms Ndungu h/b for Mrs.  Makworo 2.Mr.  Asiimwe h/b for Ombachi , Case Action, Ruling, Case Outcome, Preliminary Objection allowed, Date Delivered, 09 Sep 2021, Court County, Makueni, Case Court, Environment and Land Court at Makueni, Court Division, Environment and Land]']"
      ]
     },
     "execution_count": 40,
     "metadata": {},
     "output_type": "execute_result"
    }
   ],
   "source": [
    "table"
   ]
  },
  {
   "cell_type": "code",
   "execution_count": 23,
   "id": "e6f539de",
   "metadata": {},
   "outputs": [
    {
     "data": {
      "text/plain": [
       "['[Case Number',\n",
       " ' Civil Suit 45 of 2011',\n",
       " ' Parties',\n",
       " ' Anthony Kiai ta High Flyer Services and Publisher & another v Peter Mwangi Gichuki ta High Flyer Services and Publisher & another',\n",
       " ' Case Class',\n",
       " ' Civil',\n",
       " ' Judges',\n",
       " ' A Mabeya ',\n",
       " ' Advocates',\n",
       " ' 1.Ms Ndungu h/b for Mrs.  Makworo 2.Mr.  Asiimwe h/b for Ombachi ',\n",
       " ' Case Action',\n",
       " ' ',\n",
       " ' Case Outcome',\n",
       " ' Notice of Motion dismissed with costs to the Interested Party',\n",
       " ' Date Delivered',\n",
       " ' 02 Sep 2021',\n",
       " ' Court County',\n",
       " ' Nairobi',\n",
       " ' Case Court',\n",
       " ' High Court at Nairobi (Milimani Commercial Courts Commercial and Tax Division)',\n",
       " ' Court Division',\n",
       " ' Commercial and Tax]']"
      ]
     },
     "execution_count": 23,
     "metadata": {},
     "output_type": "execute_result"
    }
   ],
   "source": [
    "table"
   ]
  },
  {
   "cell_type": "code",
   "execution_count": 24,
   "id": "28d1bd75",
   "metadata": {},
   "outputs": [
    {
     "data": {
      "text/plain": [
       "[' Civil Suit 45 of 2011',\n",
       " ' Anthony Kiai ta High Flyer Services and Publisher & another v Peter Mwangi Gichuki ta High Flyer Services and Publisher & another',\n",
       " ' Civil',\n",
       " ' A Mabeya ',\n",
       " ' 1.Ms Ndungu h/b for Mrs.  Makworo 2.Mr.  Asiimwe h/b for Ombachi ',\n",
       " ' ',\n",
       " ' Notice of Motion dismissed with costs to the Interested Party',\n",
       " ' 02 Sep 2021',\n",
       " ' Nairobi',\n",
       " ' High Court at Nairobi (Milimani Commercial Courts Commercial and Tax Division)',\n",
       " ' Commercial and Tax]']"
      ]
     },
     "execution_count": 24,
     "metadata": {},
     "output_type": "execute_result"
    }
   ],
   "source": [
    "[x for x in table if x not in li]"
   ]
  },
  {
   "cell_type": "code",
   "execution_count": 29,
   "id": "9baeba15",
   "metadata": {},
   "outputs": [
    {
     "name": "stdout",
     "output_type": "stream",
     "text": [
      "False\n"
     ]
    }
   ],
   "source": [
    "print(table == li)"
   ]
  },
  {
   "cell_type": "code",
   "execution_count": 64,
   "id": "d8ac74c6",
   "metadata": {},
   "outputs": [],
   "source": [
    "haders = []\n",
    "tableInfo = []\n",
    "page = requests.get(url_list[0])\n",
    "bSoup = BeautifulSoup(page.content, 'html.parser')\n",
    "table = bSoup.find('table').find_all('td')\n",
    "table = BeautifulSoup(str(table), 'lxml').get_text()\n",
    "table = table.split(\",\")\n",
    "for i in range(len(table)):\n",
    "    if i % 2 == 0 and (table != li):\n",
    "            haders.append(table[i])\n",
    "    elif (table != li):\n",
    "        haders.append(table[i])"
   ]
  },
  {
   "cell_type": "code",
   "execution_count": 65,
   "id": "66f04446",
   "metadata": {},
   "outputs": [
    {
     "data": {
      "text/plain": [
       "['[Case Number',\n",
       " ' Judicial Review 06 of 2020',\n",
       " ' Parties',\n",
       " ' Francis Manthi Kitobe v County Surveyor Makueni County; Tabitha Maka',\n",
       " ' Titus Mutuku Kimandi & Nicholas Kyalo Kimandi (Interested parties)',\n",
       " ' Case Class',\n",
       " ' Civil',\n",
       " ' Judges',\n",
       " ' Charles Gitonga Mbogo ',\n",
       " ' Advocates',\n",
       " ' 1.Ms Ndungu h/b for Mrs.  Makworo 2.Mr.  Asiimwe h/b for Ombachi ',\n",
       " ' Case Action',\n",
       " ' Ruling',\n",
       " ' Case Outcome',\n",
       " ' Preliminary Objection allowed',\n",
       " ' Date Delivered',\n",
       " ' 09 Sep 2021',\n",
       " ' Court County',\n",
       " ' Makueni',\n",
       " ' Case Court',\n",
       " ' Environment and Land Court at Makueni',\n",
       " ' Court Division',\n",
       " ' Environment and Land]']"
      ]
     },
     "execution_count": 65,
     "metadata": {},
     "output_type": "execute_result"
    }
   ],
   "source": [
    "haders"
   ]
  },
  {
   "cell_type": "code",
   "execution_count": 48,
   "id": "1271ed73",
   "metadata": {},
   "outputs": [
    {
     "data": {
      "text/plain": [
       "['[Case Number',\n",
       " ' Parties',\n",
       " ' Titus Mutuku Kimandi & Nicholas Kyalo Kimandi (Interested parties)',\n",
       " ' Civil',\n",
       " ' Charles Gitonga Mbogo ',\n",
       " ' 1.Ms Ndungu h/b for Mrs.  Makworo 2.Mr.  Asiimwe h/b for Ombachi ',\n",
       " ' Ruling',\n",
       " ' Preliminary Objection allowed',\n",
       " ' 09 Sep 2021',\n",
       " ' Makueni',\n",
       " ' Environment and Land Court at Makueni',\n",
       " ' Environment and Land]']"
      ]
     },
     "execution_count": 48,
     "metadata": {},
     "output_type": "execute_result"
    }
   ],
   "source": [
    "dictionary = dict(zip(haders, tableInfo))\n",
    "json_object = json.dumps(dictionary)\n",
    "haders"
   ]
  },
  {
   "cell_type": "code",
   "execution_count": 41,
   "id": "4b3d4c38",
   "metadata": {},
   "outputs": [
    {
     "name": "stdout",
     "output_type": "stream",
     "text": [
      "[Case Number\n",
      " Parties\n",
      " Case Class\n",
      " Judges\n",
      " Advocates\n",
      " Case Action\n",
      " Case Outcome\n",
      " Date Delivered\n",
      " Court County\n",
      " Case Court\n",
      " Court Division\n"
     ]
    }
   ],
   "source": [
    "for k, v in dictionary.items():\n",
    "    print(k)"
   ]
  },
  {
   "cell_type": "code",
   "execution_count": null,
   "id": "79a7e2f8",
   "metadata": {},
   "outputs": [],
   "source": []
  }
 ],
 "metadata": {
  "kernelspec": {
   "display_name": "Python 3",
   "language": "python",
   "name": "python3"
  },
  "language_info": {
   "codemirror_mode": {
    "name": "ipython",
    "version": 3
   },
   "file_extension": ".py",
   "mimetype": "text/x-python",
   "name": "python",
   "nbconvert_exporter": "python",
   "pygments_lexer": "ipython3",
   "version": "3.7.10"
  }
 },
 "nbformat": 4,
 "nbformat_minor": 5
}
