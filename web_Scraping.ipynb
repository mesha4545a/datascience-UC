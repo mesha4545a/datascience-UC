{
 "cells": [
  {
   "cell_type": "markdown",
   "id": "e4fe050f-c7a3-49be-aaac-fb4b0b39bdda",
   "metadata": {},
   "source": [
    "# Web Scraping and store data into the database "
   ]
  },
  {
   "cell_type": "markdown",
   "id": "aabdb072-9488-41b7-8411-518adecdf753",
   "metadata": {},
   "source": [
    "## Web Scraping"
   ]
  },
  {
   "cell_type": "code",
   "execution_count": 1,
   "id": "ca2a07e4",
   "metadata": {},
   "outputs": [],
   "source": [
    "# bayberries needed\n",
    "import bs4\n",
    "from urllib.request import urlopen as uReq\n",
    "from bs4 import BeautifulSoup \n",
    "import requests\n",
    "import mysql.connector\n",
    "import pandas as pd\n",
    "import json\n",
    "import csv\n",
    "import json \n",
    "from itertools import zip_longest\n",
    "import datetime"
   ]
  },
  {
   "cell_type": "code",
   "execution_count": 2,
   "id": "d272b57d",
   "metadata": {},
   "outputs": [],
   "source": [
    "url = 'https://www.cases.sheriahub.com/' # url of the website"
   ]
  },
  {
   "cell_type": "code",
   "execution_count": 3,
   "id": "d5c44227",
   "metadata": {},
   "outputs": [],
   "source": [
    "page = requests.get(url) # visit the website"
   ]
  },
  {
   "cell_type": "code",
   "execution_count": 4,
   "id": "485e70ea",
   "metadata": {},
   "outputs": [],
   "source": [
    "bSoup = BeautifulSoup(page.content, 'html.parser') # get the page content in html\n",
    "links_list = bSoup.find_all(\"a\", {\"class\":\"btn btn-primary\"}) # find the {a tage} for the cases in the page"
   ]
  },
  {
   "cell_type": "code",
   "execution_count": 5,
   "id": "6be65917",
   "metadata": {},
   "outputs": [],
   "source": [
    "url_list = [] # store the cases links in the page  \n",
    "for link in links_list:\n",
    "    if 'href' in link.attrs:\n",
    "        url_list.append(url+str(link.attrs['href']))"
   ]
  },
  {
   "cell_type": "code",
   "execution_count": 50,
   "id": "f46a25ef",
   "metadata": {},
   "outputs": [],
   "source": [
    "names = [] # get cases taitles in html\n",
    "for link in url_list:\n",
    "    page = requests.get(link)\n",
    "    bSoup = BeautifulSoup(page.content, 'html.parser')\n",
    "    name = bSoup.find_all(\"h2\")\n",
    "    names.append(name)"
   ]
  },
  {
   "cell_type": "code",
   "execution_count": 51,
   "id": "0564e155",
   "metadata": {},
   "outputs": [],
   "source": [
    "taitels = [] # storecases taitles  in as text\n",
    "for name in names:\n",
    "    names1 = BeautifulSoup(str(name), 'lxml').get_text()\n",
    "    taitels.append(names1)"
   ]
  },
  {
   "cell_type": "code",
   "execution_count": 8,
   "id": "d53e4c0d",
   "metadata": {},
   "outputs": [],
   "source": [
    "# list of what i whant to delet in the json metadata to constract it right \n",
    "li = ['[Case Number',' Parties',' Case Class',' Judges',' Advocates',\n",
    "        ' Case Action',' Case Outcome',' Date Delivered', \n",
    "        ' Court County',' Case Court', ' Court Division']"
   ]
  },
  {
   "cell_type": "code",
   "execution_count": 9,
   "id": "e85105ed-ec0f-497d-90ae-98d69b8160e2",
   "metadata": {},
   "outputs": [],
   "source": [
    "# the head in the json object i whant \n",
    "head = ['Case Number',' Parties','Case Class','Judges','Advocates',\n",
    "        'Case Action','Case Outcome','Date Delivered', \n",
    "        'Court County','Case Court', 'Court Division']"
   ]
  },
  {
   "cell_type": "code",
   "execution_count": 10,
   "id": "fcc7ec68",
   "metadata": {},
   "outputs": [],
   "source": [
    "info = []\n",
    "metadata  = []"
   ]
  },
  {
   "cell_type": "code",
   "execution_count": 11,
   "id": "94972998",
   "metadata": {},
   "outputs": [],
   "source": [
    "#0 Constract the json object by making it dictionary frist  \n",
    "page = requests.get(url_list[0])\n",
    "bSoup = BeautifulSoup(page.content, 'html.parser')\n",
    "table = bSoup.find('table').find_all('td')\n",
    "table = BeautifulSoup(str(table), 'lxml').get_text()\n",
    "table = table.split(\",\")\n",
    "table = [x for x in table if x not in li]\n",
    "table[1 : 3] = [''.join(table[1 : 3])]\n",
    "info.extend(table)\n",
    "d0 = dict(zip(head,info))\n",
    "metadata.append(d0)"
   ]
  },
  {
   "cell_type": "code",
   "execution_count": 12,
   "id": "29998a9b",
   "metadata": {},
   "outputs": [],
   "source": [
    "#1\n",
    "page = requests.get(url_list[1])\n",
    "bSoup = BeautifulSoup(page.content, 'html.parser')\n",
    "table = bSoup.find('table').find_all('td')\n",
    "table = BeautifulSoup(str(table), 'lxml').get_text()\n",
    "table = table.split(\",\")\n",
    "table = [x for x in table if x not in li]\n",
    "info.extend(table)\n",
    "d1 = dict(zip(head,info))\n",
    "metadata.append(d1)"
   ]
  },
  {
   "cell_type": "code",
   "execution_count": 13,
   "id": "b1b8e799",
   "metadata": {},
   "outputs": [],
   "source": [
    "#2\n",
    "page = requests.get(url_list[2])\n",
    "bSoup = BeautifulSoup(page.content, 'html.parser')\n",
    "table = bSoup.find('table').find_all('td')\n",
    "table = BeautifulSoup(str(table), 'lxml').get_text()\n",
    "table = table.split(\",\")\n",
    "table = [x for x in table if x not in li]\n",
    "info.extend(table)\n",
    "d2 = dict(zip(head,info))\n",
    "metadata.append(d2)"
   ]
  },
  {
   "cell_type": "code",
   "execution_count": 14,
   "id": "56cbfe38",
   "metadata": {},
   "outputs": [],
   "source": [
    "#3\n",
    "page = requests.get(url_list[3])\n",
    "bSoup = BeautifulSoup(page.content, 'html.parser')\n",
    "table = bSoup.find('table').find_all('td')\n",
    "table = BeautifulSoup(str(table), 'lxml').get_text()\n",
    "table = table.split(\",\")\n",
    "table = [x for x in table if x not in li]\n",
    "info.extend(table)\n",
    "d3 = dict(zip(head,info))\n",
    "metadata.append(d3)"
   ]
  },
  {
   "cell_type": "code",
   "execution_count": 15,
   "id": "8aee6280",
   "metadata": {},
   "outputs": [],
   "source": [
    "#4\n",
    "page = requests.get(url_list[4])\n",
    "bSoup = BeautifulSoup(page.content, 'html.parser')\n",
    "table = bSoup.find('table').find_all('td')\n",
    "table = BeautifulSoup(str(table), 'lxml').get_text()\n",
    "table = table.split(\",\")\n",
    "table = [x for x in table if x not in li]\n",
    "info.extend(table)\n",
    "d4 = dict(zip(head,info))\n",
    "metadata.append(d4)"
   ]
  },
  {
   "cell_type": "code",
   "execution_count": 16,
   "id": "faa7700b",
   "metadata": {},
   "outputs": [],
   "source": [
    "#5\n",
    "page = requests.get(url_list[5])\n",
    "bSoup = BeautifulSoup(page.content, 'html.parser')\n",
    "table = bSoup.find('table').find_all('td')\n",
    "table = BeautifulSoup(str(table), 'lxml').get_text()\n",
    "table = table.split(\",\")\n",
    "table = [x for x in table if x not in li]\n",
    "info.extend(table)\n",
    "d5 = dict(zip(head,info))\n",
    "metadata.append(d5)"
   ]
  },
  {
   "cell_type": "code",
   "execution_count": 17,
   "id": "f83bde93",
   "metadata": {},
   "outputs": [],
   "source": [
    "#6\n",
    "page = requests.get(url_list[6])\n",
    "bSoup = BeautifulSoup(page.content, 'html.parser')\n",
    "table = bSoup.find('table').find_all('td')\n",
    "table = BeautifulSoup(str(table), 'lxml').get_text()\n",
    "table = table.split(\",\")\n",
    "table = [x for x in table if x not in li]\n",
    "info.extend(table)\n",
    "d6 = dict(zip(head,info))\n",
    "metadata.append(d6)"
   ]
  },
  {
   "cell_type": "code",
   "execution_count": 18,
   "id": "d9151eb6",
   "metadata": {},
   "outputs": [],
   "source": [
    "#7\n",
    "page = requests.get(url_list[7])\n",
    "bSoup = BeautifulSoup(page.content, 'html.parser')\n",
    "table = bSoup.find('table').find_all('td')\n",
    "table = BeautifulSoup(str(table), 'lxml').get_text()\n",
    "table = table.split(\",\")\n",
    "table = [x for x in table if x not in li]\n",
    "info.extend(table)\n",
    "d7 = dict(zip(head,info))\n",
    "metadata.append(d7)"
   ]
  },
  {
   "cell_type": "code",
   "execution_count": 19,
   "id": "3264d03f",
   "metadata": {},
   "outputs": [],
   "source": [
    "#8\n",
    "page = requests.get(url_list[8])\n",
    "bSoup = BeautifulSoup(page.content, 'html.parser')\n",
    "table = bSoup.find('table').find_all('td')\n",
    "table = BeautifulSoup(str(table), 'lxml').get_text()\n",
    "table = table.split(\",\")\n",
    "table = [x for x in table if x not in li]\n",
    "info.extend(table)\n",
    "d8 = dict(zip(head,info))\n",
    "metadata.append(d8)"
   ]
  },
  {
   "cell_type": "code",
   "execution_count": 20,
   "id": "cabde540",
   "metadata": {},
   "outputs": [],
   "source": [
    "#9\n",
    "page = requests.get(url_list[9])\n",
    "bSoup = BeautifulSoup(page.content, 'html.parser')\n",
    "table = bSoup.find('table').find_all('td')\n",
    "table = BeautifulSoup(str(table), 'lxml').get_text()\n",
    "table = table.split(\",\")\n",
    "table = [x for x in table if x not in li]\n",
    "table[1 : 3] = [''.join(table[1 : 3])]\n",
    "info.extend(table)\n",
    "d9 = dict(zip(head,info))\n",
    "metadata.append(d9)"
   ]
  },
  {
   "cell_type": "code",
   "execution_count": 22,
   "id": "71c85127-8b2b-49e0-b41d-973ef3af5c08",
   "metadata": {},
   "outputs": [],
   "source": [
    "judm_html = []\n",
    "judm_text = []"
   ]
  },
  {
   "cell_type": "code",
   "execution_count": 23,
   "id": "90abbc98-72b9-4226-8514-86209bc4e1e5",
   "metadata": {},
   "outputs": [],
   "source": [
    "### collect the page html and text\n",
    "page = requests.get(url_list[0])\n",
    "bSoup = BeautifulSoup(page.content, 'html.parser')\n",
    "judment = bSoup.find(\"div\")\n",
    "judment = judment.find_all(\"span\")\n",
    "judm_html.append(judment)\n",
    "judment_t = BeautifulSoup(str(judment), 'lxml').get_text()\n",
    "judm_text.append(judment_t)"
   ]
  },
  {
   "cell_type": "code",
   "execution_count": 24,
   "id": "852caebb-f631-4240-903b-43a8cd974bec",
   "metadata": {},
   "outputs": [],
   "source": [
    "page = requests.get(url_list[1])\n",
    "bSoup = BeautifulSoup(page.content, 'html.parser')\n",
    "judment = bSoup.find(\"div\")\n",
    "judment = judment.find_all(\"span\")\n",
    "judm_html.append(judment)\n",
    "judment_t = BeautifulSoup(str(judment), 'lxml').get_text()\n",
    "judm_text.append(judment_t)"
   ]
  },
  {
   "cell_type": "code",
   "execution_count": 25,
   "id": "db244abd-fa77-440f-9076-d97506685f27",
   "metadata": {},
   "outputs": [],
   "source": [
    "page = requests.get(url_list[2])\n",
    "bSoup = BeautifulSoup(page.content, 'html.parser')\n",
    "judment = bSoup.find(\"div\")\n",
    "judment = judment.find_all(\"span\")\n",
    "judment\n",
    "judm_html.append(judment)\n",
    "judment_t = BeautifulSoup(str(judment), 'lxml').get_text()\n",
    "judm_text.append(judment_t)"
   ]
  },
  {
   "cell_type": "code",
   "execution_count": 26,
   "id": "87a55246-6702-4e58-aafb-5a92ab4f3fe1",
   "metadata": {},
   "outputs": [],
   "source": [
    "page = requests.get(url_list[3])\n",
    "bSoup = BeautifulSoup(page.content, 'html.parser')\n",
    "judment = bSoup.find(\"div\")\n",
    "judment = judment.find_all(\"span\")\n",
    "judm_html.append(judment)\n",
    "judment_t = BeautifulSoup(str(judment), 'lxml').get_text()\n",
    "judm_text.append(judment_t)"
   ]
  },
  {
   "cell_type": "code",
   "execution_count": 27,
   "id": "85e8fe9c-e1c1-476d-9bb2-b3b2deae7d59",
   "metadata": {},
   "outputs": [],
   "source": [
    "###\n",
    "page = requests.get(url_list[4])\n",
    "bSoup = BeautifulSoup(page.content, 'html.parser')\n",
    "judment = bSoup.find(\"div\")\n",
    "judment = judment.find_all(\"span\")\n",
    "judm_html.append(judment)\n",
    "judment_t = BeautifulSoup(str(judment), 'lxml').get_text()\n",
    "judm_text.append(judment_t)"
   ]
  },
  {
   "cell_type": "code",
   "execution_count": 28,
   "id": "fd3de935-56a6-4ae1-8b51-9d5191758ebb",
   "metadata": {},
   "outputs": [],
   "source": [
    "page = requests.get(url_list[5])\n",
    "bSoup = BeautifulSoup(page.content, 'html.parser')\n",
    "judment = bSoup.find(\"div\")\n",
    "judment = judment.find_all(\"span\")\n",
    "judm_html.append(judment)\n",
    "judment_t = BeautifulSoup(str(judment), 'lxml').get_text()\n",
    "judm_text.append(judment_t)"
   ]
  },
  {
   "cell_type": "code",
   "execution_count": 29,
   "id": "346a88c6-fcd8-4dd9-a444-3f82381501e6",
   "metadata": {},
   "outputs": [],
   "source": [
    "page = requests.get(url_list[6])\n",
    "bSoup = BeautifulSoup(page.content, 'html.parser')\n",
    "judment = bSoup.find(\"div\")\n",
    "judment = judment.find_all(\"span\")\n",
    "judm_html.append(judment)\n",
    "judment_t = BeautifulSoup(str(judment), 'lxml').get_text()\n",
    "judm_text.append(judment_t)"
   ]
  },
  {
   "cell_type": "code",
   "execution_count": 30,
   "id": "24320dbb-6730-4291-84b8-e15b2c0c847c",
   "metadata": {},
   "outputs": [],
   "source": [
    "page = requests.get(url_list[7])\n",
    "bSoup = BeautifulSoup(page.content, 'html.parser')\n",
    "judment = bSoup.find(\"div\")\n",
    "judment = judment.find_all(\"span\")\n",
    "judm_html.append(judment)\n",
    "judment_t = BeautifulSoup(str(judment), 'lxml').get_text()\n",
    "judm_text.append(judment_t)"
   ]
  },
  {
   "cell_type": "code",
   "execution_count": 31,
   "id": "5794816b-3397-459d-ac8d-ae77efe97b61",
   "metadata": {},
   "outputs": [],
   "source": [
    "###\n",
    "page = requests.get(url_list[8])\n",
    "bSoup = BeautifulSoup(page.content, 'html.parser')\n",
    "judment = bSoup.find(\"div\")\n",
    "judment = judment.find_all(\"span\")\n",
    "judm_html.append(judment)\n",
    "judment_t = BeautifulSoup(str(judment), 'lxml').get_text()\n",
    "judm_text.append(judment_t)"
   ]
  },
  {
   "cell_type": "code",
   "execution_count": 32,
   "id": "85255c4e-bd9d-469e-ab37-a3b92030350b",
   "metadata": {},
   "outputs": [],
   "source": [
    "###\n",
    "page = requests.get(url_list[9])\n",
    "bSoup = BeautifulSoup(page.content, 'html.parser')\n",
    "judment = bSoup.find(\"div\")\n",
    "judment = judment.find_all(\"span\")\n",
    "judm_html.append(judment)\n",
    "judment_t = BeautifulSoup(str(judment), 'lxml').get_text()\n",
    "judm_text.append(judment_t)"
   ]
  },
  {
   "cell_type": "code",
   "execution_count": 34,
   "id": "09a120d5-7d07-47be-8a6b-4d3cc8ef06ae",
   "metadata": {},
   "outputs": [],
   "source": [
    "pdfs = []\n",
    "for i in range(len(url_list)):\n",
    "    page = requests.get(url_list[i])\n",
    "    bSoup = BeautifulSoup(page.content, 'html.parser')\n",
    "    pdf = bSoup.find(\"a\", {\"class\":\"btn btn-primary pull-right\"})\n",
    "    pdf_link = pdf.get('href')\n",
    "    with open(str(i)+\".pdf\", 'wb') as file:\n",
    "        response = requests.get(pdf_link)\n",
    "        file.write(response.content)\n",
    "    #pdfs.append(pdf)"
   ]
  },
  {
   "cell_type": "code",
   "execution_count": 35,
   "id": "25f96fbc-6b2b-4110-8751-fc392ebd26e1",
   "metadata": {},
   "outputs": [
    {
     "data": {
      "text/plain": [
       "[datetime.date(2021, 9, 21),\n",
       " datetime.date(2021, 9, 21),\n",
       " datetime.date(2021, 9, 21),\n",
       " datetime.date(2021, 9, 21),\n",
       " datetime.date(2021, 9, 21),\n",
       " datetime.date(2021, 9, 21),\n",
       " datetime.date(2021, 9, 21),\n",
       " datetime.date(2021, 9, 21),\n",
       " datetime.date(2021, 9, 21),\n",
       " datetime.date(2021, 9, 21)]"
      ]
     },
     "execution_count": 35,
     "metadata": {},
     "output_type": "execute_result"
    }
   ],
   "source": [
    "date_list = [datetime.date.today() for x in range(10)] # date list \n",
    "date_list "
   ]
  },
  {
   "cell_type": "markdown",
   "id": "ec7e3c8f-e63b-4b8e-8916-d1edd80c98f0",
   "metadata": {},
   "source": [
    "## Insert into the database "
   ]
  },
  {
   "cell_type": "code",
   "execution_count": 36,
   "id": "c5724645",
   "metadata": {},
   "outputs": [],
   "source": [
    "# connect into the database\n",
    "db = mysql.connector.connect(\n",
    "      host = \"uc.utatuzicenter.com\",\n",
    "      user = \"1st_datascience\",\n",
    "      passwd = \"important!and?Secured\",\n",
    "     database = \"datascience_interns\")"
   ]
  },
  {
   "cell_type": "code",
   "execution_count": 37,
   "id": "f5bf76b5",
   "metadata": {},
   "outputs": [],
   "source": [
    "mycursor = db.cursor() # make cursor object"
   ]
  },
  {
   "cell_type": "code",
   "execution_count": 38,
   "id": "d98d3199",
   "metadata": {},
   "outputs": [
    {
     "name": "stdout",
     "output_type": "stream",
     "text": [
      "('id', 'int(11)', 'NO', 'PRI', None, 'auto_increment')\n",
      "('case_title', 'varchar(225)', 'NO', '', None, '')\n",
      "('metadata', 'json', 'NO', '', None, '')\n",
      "('case_judgement_html', 'mediumtext', 'NO', '', None, '')\n",
      "('case_judgement_text', 'mediumtext', 'NO', '', None, '')\n",
      "('pdf', 'blob', 'NO', '', None, '')\n",
      "('date', 'datetime', 'NO', '', None, '')\n"
     ]
    }
   ],
   "source": [
    "mycursor.execute(\"DESCRIBE shaima_aljahani\") # describe the columns\n",
    "for x in mycursor:\n",
    "    print(x)"
   ]
  },
  {
   "cell_type": "code",
   "execution_count": 39,
   "id": "7eaf5c57-a0ff-452a-8f9c-64d713841e33",
   "metadata": {},
   "outputs": [],
   "source": [
    "html = [] # delet \"diviver\" cuse it make erero when inserting\n",
    "for i in range(10):\n",
    "    html.append(str(judm_html[i]).replace(\"diviver\", \"\"))\n",
    "    \n"
   ]
  },
  {
   "cell_type": "code",
   "execution_count": 40,
   "id": "a91c7ea6-a0b4-4b62-8de6-89e2fe9a1ca8",
   "metadata": {},
   "outputs": [
    {
     "data": {
      "text/plain": [
       "'{\"Case Number\": \" Criminal Appeal 72 of 2018\", \" Parties\": \" Republic v John Macharia Ndungu Mwari Criminal\", \"Case Class\": \" Reuben Nyambati Nyakundi \", \"Judges\": \" Mr.  Mwangi for the DPP\", \"Advocates\": \" Judgment\", \"Case Action\": \" Appeal dismissed\", \"Case Outcome\": \" 15 Sep 2021\", \"Date Delivered\": \" Tana River\", \"Court County\": \" High Court at Garsen\", \"Case Court\": \" Criminal]\"}'"
      ]
     },
     "execution_count": 40,
     "metadata": {},
     "output_type": "execute_result"
    }
   ],
   "source": [
    "jas = [] # make metadata into json object \n",
    "for i in range(10):\n",
    "    jas.append(json.dumps(metadata[i]))\n",
    "jas[0]"
   ]
  },
  {
   "cell_type": "code",
   "execution_count": 41,
   "id": "d9e4e9c2",
   "metadata": {},
   "outputs": [],
   "source": [
    "# insert into the database\n",
    "for i in range(10):\n",
    "    query = '''INSERT INTO `shaima_aljahani` (`case_title`,`metadata`,`case_judgement_html`,`case_judgement_text`,`pdf`,`date`) VALUES ('{}','{}',\"{}\",\"{}\",\"{}.pdf\",\"{}\")'''.format(taitels[i],jas[i],html[i],judm_text[i],str(i),date_list[i])\n",
    "    mycursor.execute(query)\n",
    "#     # `,`case_judgement_text`,`pdf`,`date`  ,{},\"{}.pdf\",\"{}\" ,judm_text[i],str(i),date_list[i]\n",
    "    \n"
   ]
  },
  {
   "cell_type": "code",
   "execution_count": 42,
   "id": "a734b393-528c-4157-8bfe-ab455f563986",
   "metadata": {},
   "outputs": [],
   "source": [
    "db.commit() # comit the che queries"
   ]
  }
 ],
 "metadata": {
  "kernelspec": {
   "display_name": "Python 3",
   "language": "python",
   "name": "python3"
  },
  "language_info": {
   "codemirror_mode": {
    "name": "ipython",
    "version": 3
   },
   "file_extension": ".py",
   "mimetype": "text/x-python",
   "name": "python",
   "nbconvert_exporter": "python",
   "pygments_lexer": "ipython3",
   "version": "3.7.10"
  }
 },
 "nbformat": 4,
 "nbformat_minor": 5
}
