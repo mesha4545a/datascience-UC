{
 "cells": [
  {
   "cell_type": "code",
   "execution_count": 1,
   "id": "52f84f13-edd9-4f55-8fca-886c85e00167",
   "metadata": {},
   "outputs": [],
   "source": [
    "import requests\n",
    "import json\n",
    "import "
   ]
  },
  {
   "cell_type": "code",
   "execution_count": 5,
   "id": "6de5efc6-c0a0-453f-bc76-d6578b2daa16",
   "metadata": {},
   "outputs": [
    {
     "data": {
      "text/plain": [
       "{'status': 'success',\n",
       " 'time': 0.13819289207458496,\n",
       " 'files': {'pdf': 'https://tools.utatuzicenter.com/tool_60479f49c7/9AB502C355.pdf',\n",
       "  'txt': 'https://tools.utatuzicenter.com/tool_60479f49c7/9AB502C355.txt'}}"
      ]
     },
     "execution_count": 5,
     "metadata": {},
     "output_type": "execute_result"
    }
   ],
   "source": [
    "# with open(\"2021-ugsc-42.pdf\", \"rb\") as a_file:\n",
    "#     file_dict = {\"2021-ugsc-42.pdf\": a_file}\n",
    "#     response = requests.post(\"https://tools.utatuzicenter.com/ocr\", files=file_dict)\n",
    "\n",
    "# response.json()\n",
    "\n",
    "# #extract scanned pdf text           \n",
    "with open('2020-ugsc-9_4.pdf', 'rb') as f:\n",
    "    r = requests.post('https://tools.utatuzicenter.com/ocr', files={'2020-ugsc-9_4.pdf': f})\n",
    "r.json()\n"
   ]
  },
  {
   "cell_type": "code",
   "execution_count": 59,
   "id": "4ef8a356-a6fb-4e8a-a028-1a410bc78403",
   "metadata": {},
   "outputs": [
    {
     "data": {
      "text/plain": [
       "'https://tools.utatuzicenter.com/tool_6ac325ba30/8E2D83349E.txt'"
      ]
     },
     "execution_count": 59,
     "metadata": {},
     "output_type": "execute_result"
    }
   ],
   "source": [
    "aaa = r.json()\n",
    "aaa[\"files\"][\"txt\"]"
   ]
  },
  {
   "cell_type": "code",
   "execution_count": 12,
   "id": "1c6f49b3-af89-4d8e-ba4f-7c615a0d29b3",
   "metadata": {},
   "outputs": [],
   "source": [
    "response = requests.get(\"https://tools.utatuzicenter.com/ocr\")"
   ]
  },
  {
   "cell_type": "code",
   "execution_count": 13,
   "id": "86e15d44-7498-4056-b7f3-4b6da73a76e1",
   "metadata": {},
   "outputs": [
    {
     "data": {
      "text/plain": [
       "{'error': 'No File'}"
      ]
     },
     "execution_count": 13,
     "metadata": {},
     "output_type": "execute_result"
    }
   ],
   "source": [
    "example = {key: "
   ]
  }
 ],
 "metadata": {
  "kernelspec": {
   "display_name": "Python 3 (ipykernel)",
   "language": "python",
   "name": "python3"
  },
  "language_info": {
   "codemirror_mode": {
    "name": "ipython",
    "version": 3
   },
   "file_extension": ".py",
   "mimetype": "text/x-python",
   "name": "python",
   "nbconvert_exporter": "python",
   "pygments_lexer": "ipython3",
   "version": "3.7.11"
  }
 },
 "nbformat": 4,
 "nbformat_minor": 5
}
