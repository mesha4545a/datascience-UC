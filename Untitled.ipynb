{
 "cells": [
  {
   "cell_type": "code",
   "execution_count": 1,
   "id": "be8826aa-6717-4613-9232-a353a3f2ffc8",
   "metadata": {},
   "outputs": [],
   "source": [
    "import requests"
   ]
  },
  {
   "cell_type": "code",
   "execution_count": 73,
   "id": "e800789b-c432-447d-9a37-386df561f21d",
   "metadata": {},
   "outputs": [],
   "source": [
    "file = \"Befeho v Uganda (Criminal Appeal 15 of 2017) [2021] UGSC 42 (01 October 2021); _ Ulii.html\""
   ]
  },
  {
   "cell_type": "code",
   "execution_count": 74,
   "id": "2c147cad-010a-4c8f-90d5-639791163cfd",
   "metadata": {},
   "outputs": [],
   "source": [
    "response = requests.get(\"https://tools.utatuzicenter.com/ocr\", file)"
   ]
  },
  {
   "cell_type": "code",
   "execution_count": 81,
   "id": "75515587-ed40-42cc-bcc2-b36cc9d1a6df",
   "metadata": {},
   "outputs": [
    {
     "name": "stdout",
     "output_type": "stream",
     "text": [
      "200\n"
     ]
    }
   ],
   "source": [
    "print(response.status_code)"
   ]
  },
  {
   "cell_type": "code",
   "execution_count": 80,
   "id": "0b6c8476-43e5-442b-bc11-870ca47d82db",
   "metadata": {},
   "outputs": [
    {
     "data": {
      "text/plain": [
       "{'error': 'No File'}"
      ]
     },
     "execution_count": 80,
     "metadata": {},
     "output_type": "execute_result"
    }
   ],
   "source": [
    "response.json()"
   ]
  },
  {
   "cell_type": "code",
   "execution_count": 77,
   "id": "4149ea37-3d46-4421-a843-8a062ca36873",
   "metadata": {},
   "outputs": [
    {
     "data": {
      "text/plain": [
       "'{\"error\":\"No File\"}'"
      ]
     },
     "execution_count": 77,
     "metadata": {},
     "output_type": "execute_result"
    }
   ],
   "source": [
    "response.text"
   ]
  },
  {
   "cell_type": "code",
   "execution_count": 78,
   "id": "afe67b62-6883-4a4a-8b94-e5f2ae1846d9",
   "metadata": {},
   "outputs": [
    {
     "data": {
      "text/plain": [
       "b'{\"error\":\"No File\"}'"
      ]
     },
     "execution_count": 78,
     "metadata": {},
     "output_type": "execute_result"
    }
   ],
   "source": [
    "response.content"
   ]
  },
  {
   "cell_type": "code",
   "execution_count": 79,
   "id": "067cadcb-3678-4712-9cb8-95bb310d3d98",
   "metadata": {},
   "outputs": [
    {
     "data": {
      "text/plain": [
       "'text/html; charset=UTF-8'"
      ]
     },
     "execution_count": 79,
     "metadata": {},
     "output_type": "execute_result"
    }
   ],
   "source": [
    "response.headers.get(\"Content-Type\")"
   ]
  },
  {
   "cell_type": "code",
   "execution_count": 45,
   "id": "60315323-859b-4bee-b2f1-9918b2a6ab65",
   "metadata": {},
   "outputs": [],
   "source": []
  },
  {
   "cell_type": "code",
   "execution_count": null,
   "id": "63cbc11b-9896-4273-9d83-5b18146c7785",
   "metadata": {},
   "outputs": [],
   "source": []
  }
 ],
 "metadata": {
  "kernelspec": {
   "display_name": "Python 3 (ipykernel)",
   "language": "python",
   "name": "python3"
  },
  "language_info": {
   "codemirror_mode": {
    "name": "ipython",
    "version": 3
   },
   "file_extension": ".py",
   "mimetype": "text/x-python",
   "name": "python",
   "nbconvert_exporter": "python",
   "pygments_lexer": "ipython3",
   "version": "3.7.11"
  }
 },
 "nbformat": 4,
 "nbformat_minor": 5
}
