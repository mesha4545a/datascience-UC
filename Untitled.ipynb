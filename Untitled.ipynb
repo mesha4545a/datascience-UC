{
 "cells": [
  {
   "cell_type": "code",
   "execution_count": 86,
   "id": "ca2a07e4",
   "metadata": {},
   "outputs": [],
   "source": [
    "import bs4\n",
    "from urllib.request import urlopen as uReq\n",
    "from bs4 import BeautifulSoup \n",
    "import requests\n",
    "import mysql.connector\n",
    "import pandas as pd\n",
    "import json\n",
    "import csv\n",
    "import json \n",
    "from itertools import zip_longest\n",
    "import datetime\n"
   ]
  },
  {
   "cell_type": "code",
   "execution_count": 2,
   "id": "d272b57d",
   "metadata": {},
   "outputs": [],
   "source": [
    "url = 'https://www.cases.sheriahub.com/'"
   ]
  },
  {
   "cell_type": "code",
   "execution_count": 3,
   "id": "d5c44227",
   "metadata": {},
   "outputs": [],
   "source": [
    "page = requests.get(url)"
   ]
  },
  {
   "cell_type": "code",
   "execution_count": 4,
   "id": "485e70ea",
   "metadata": {},
   "outputs": [],
   "source": [
    "bSoup = BeautifulSoup(page.content, 'html.parser')\n",
    "links_list = bSoup.find_all(\"a\", {\"class\":\"btn btn-primary\"})"
   ]
  },
  {
   "cell_type": "code",
   "execution_count": 5,
   "id": "6be65917",
   "metadata": {},
   "outputs": [],
   "source": [
    "url_list = []\n",
    "for link in links_list:\n",
    "    if 'href' in link.attrs:\n",
    "        url_list.append(url+str(link.attrs['href']))"
   ]
  },
  {
   "cell_type": "code",
   "execution_count": 11,
   "id": "425295a4",
   "metadata": {},
   "outputs": [
    {
     "name": "stdout",
     "output_type": "stream",
     "text": [
      "https://www.cases.sheriahub.com/case/5eb09b565c/\n"
     ]
    }
   ],
   "source": []
  },
  {
   "cell_type": "code",
   "execution_count": 6,
   "id": "f46a25ef",
   "metadata": {},
   "outputs": [
    {
     "data": {
      "text/plain": [
       "[[<h2 style=\"border-bottom:solid 1px #f1f1f1; padding-bottom:1em;\">Judicial Review 06 of 2020 - Francis Manthi Kitobe v County Surveyor Makueni County; Tabitha Maka, Titus Mutuku Kimandi &amp; Nicholas Kyalo Kimandi (Interested parties)</h2>],\n",
       " [<h2 style=\"border-bottom:solid 1px #f1f1f1; padding-bottom:1em;\">Civil Suit 45 of 2011 - Anthony Kiai t/a High Flyer Services and Publisher &amp; another v Peter Mwangi Gichuki t/a High Flyer Services and Publisher &amp; another</h2>],\n",
       " [<h2 style=\"border-bottom:solid 1px #f1f1f1; padding-bottom:1em;\">Civil Suit 386 of 2016 - Onyango v Techspa General Supplies &amp; 2 others</h2>],\n",
       " [<h2 style=\"border-bottom:solid 1px #f1f1f1; padding-bottom:1em;\">Income Tax Appeal E152 of 2020 - Commissioner of Domestic Taxes v Dodwell and Company (EA) Limited</h2>],\n",
       " [<h2 style=\"border-bottom:solid 1px #f1f1f1; padding-bottom:1em;\">Judicial Review  Application 34 of 2020 - Republic v Standards Tribunal;Ex parte Applicant Kenya Bureau of Standards;Harleys Limited(Interested Party)</h2>],\n",
       " [<h2 style=\"border-bottom:solid 1px #f1f1f1; padding-bottom:1em;\">Income Tax Appeal E100 of 2020 - Commissioner of Domestic Taxes v Metoxide Limited</h2>],\n",
       " [<h2 style=\"border-bottom:solid 1px #f1f1f1; padding-bottom:1em;\">Miscellaneous Application E127 of 2021 - Maersk Kenya Limited v Nirav Agencies Limited</h2>],\n",
       " [<h2 style=\"border-bottom:solid 1px #f1f1f1; padding-bottom:1em;\">Civil Appeal E036 of 2021 - Noor &amp; another v Bank of Africa Limited &amp; 2 others</h2>],\n",
       " [<h2 style=\"border-bottom:solid 1px #f1f1f1; padding-bottom:1em;\">Criminal Appeal 144 of 2018 - Martin Mukhisa Wafula v Republic</h2>],\n",
       " [<h2 style=\"border-bottom:solid 1px #f1f1f1; padding-bottom:1em;\">Environment and Land Case E003 of 2021 - Impact Chemicals Limited v County Government of Kisumu &amp; Land Registrar, Kisumu; Kenya Commercial Bank Ltd (Interested Party)</h2>]]"
      ]
     },
     "execution_count": 6,
     "metadata": {},
     "output_type": "execute_result"
    }
   ],
   "source": [
    "names = []\n",
    "for link in url_list:\n",
    "    page = requests.get(link)\n",
    "    bSoup = BeautifulSoup(page.content, 'html.parser')\n",
    "    name = bSoup.find_all(\"h2\")\n",
    "    names.append(name)\n",
    "names"
   ]
  },
  {
   "cell_type": "code",
   "execution_count": 8,
   "id": "0564e155",
   "metadata": {},
   "outputs": [
    {
     "data": {
      "text/plain": [
       "['[Judicial Review 06 of 2020 - Francis Manthi Kitobe v County Surveyor Makueni County; Tabitha Maka, Titus Mutuku Kimandi & Nicholas Kyalo Kimandi (Interested parties)]',\n",
       " '[Civil Suit 45 of 2011 - Anthony Kiai t/a High Flyer Services and Publisher & another v Peter Mwangi Gichuki t/a High Flyer Services and Publisher & another]',\n",
       " '[Civil Suit 386 of 2016 - Onyango v Techspa General Supplies & 2 others]',\n",
       " '[Income Tax Appeal E152 of 2020 - Commissioner of Domestic Taxes v Dodwell and Company (EA) Limited]',\n",
       " '[Judicial Review  Application 34 of 2020 - Republic v Standards Tribunal;Ex parte Applicant Kenya Bureau of Standards;Harleys Limited(Interested Party)]',\n",
       " '[Income Tax Appeal E100 of 2020 - Commissioner of Domestic Taxes v Metoxide Limited]',\n",
       " '[Miscellaneous Application E127 of 2021 - Maersk Kenya Limited v Nirav Agencies Limited]',\n",
       " '[Civil Appeal E036 of 2021 - Noor & another v Bank of Africa Limited & 2 others]',\n",
       " '[Criminal Appeal 144 of 2018 - Martin Mukhisa Wafula v Republic]',\n",
       " '[Environment and Land Case E003 of 2021 - Impact Chemicals Limited v County Government of Kisumu & Land Registrar, Kisumu; Kenya Commercial Bank Ltd (Interested Party)]']"
      ]
     },
     "execution_count": 8,
     "metadata": {},
     "output_type": "execute_result"
    }
   ],
   "source": [
    "taitels = []\n",
    "for name in names:\n",
    "    names1 = BeautifulSoup(str(name), 'lxml').get_text()\n",
    "    taitels.append(names1)\n",
    "taitels\n"
   ]
  },
  {
   "cell_type": "code",
   "execution_count": 9,
   "id": "d53e4c0d",
   "metadata": {},
   "outputs": [],
   "source": [
    "li = ['[Case Number',' Parties',' Case Class',' Judges',' Advocates',\n",
    "        ' Case Action',' Case Outcome',' Date Delivered', \n",
    "        ' Court County',' Case Court', ' Court Division']"
   ]
  },
  {
   "cell_type": "code",
   "execution_count": 10,
   "id": "e85105ed-ec0f-497d-90ae-98d69b8160e2",
   "metadata": {},
   "outputs": [],
   "source": [
    "head = ['Case Number',' Parties','Case Class','Judges','Advocates',\n",
    "        'Case Action','Case Outcome','Date Delivered', \n",
    "        'Court County','Case Court', 'Court Division']"
   ]
  },
  {
   "cell_type": "code",
   "execution_count": 11,
   "id": "fcc7ec68",
   "metadata": {},
   "outputs": [],
   "source": [
    "info = []\n",
    "metadata  = []"
   ]
  },
  {
   "cell_type": "code",
   "execution_count": 12,
   "id": "94972998",
   "metadata": {},
   "outputs": [],
   "source": [
    "#0\n",
    "page = requests.get(url_list[0])\n",
    "bSoup = BeautifulSoup(page.content, 'html.parser')\n",
    "table = bSoup.find('table').find_all('td')\n",
    "table = BeautifulSoup(str(table), 'lxml').get_text()\n",
    "table = table.split(\",\")\n",
    "table = [x for x in table if x not in li]\n",
    "table[1 : 3] = [''.join(table[1 : 3])]\n",
    "info.extend(table)\n",
    "d0 = dict(zip(head,info))\n",
    "metadata.append(d0)"
   ]
  },
  {
   "cell_type": "code",
   "execution_count": 13,
   "id": "29998a9b",
   "metadata": {},
   "outputs": [],
   "source": [
    "#1\n",
    "page = requests.get(url_list[1])\n",
    "bSoup = BeautifulSoup(page.content, 'html.parser')\n",
    "table = bSoup.find('table').find_all('td')\n",
    "table = BeautifulSoup(str(table), 'lxml').get_text()\n",
    "table = table.split(\",\")\n",
    "table = [x for x in table if x not in li]\n",
    "info.extend(table)\n",
    "d1 = dict(zip(head,info))\n",
    "metadata.append(d1)"
   ]
  },
  {
   "cell_type": "code",
   "execution_count": 14,
   "id": "b1b8e799",
   "metadata": {},
   "outputs": [],
   "source": [
    "#2\n",
    "page = requests.get(url_list[2])\n",
    "bSoup = BeautifulSoup(page.content, 'html.parser')\n",
    "table = bSoup.find('table').find_all('td')\n",
    "table = BeautifulSoup(str(table), 'lxml').get_text()\n",
    "table = table.split(\",\")\n",
    "table = [x for x in table if x not in li]\n",
    "info.extend(table)\n",
    "d2 = dict(zip(head,info))\n",
    "metadata.append(d2)"
   ]
  },
  {
   "cell_type": "code",
   "execution_count": 15,
   "id": "56cbfe38",
   "metadata": {},
   "outputs": [],
   "source": [
    "#3\n",
    "page = requests.get(url_list[3])\n",
    "bSoup = BeautifulSoup(page.content, 'html.parser')\n",
    "table = bSoup.find('table').find_all('td')\n",
    "table = BeautifulSoup(str(table), 'lxml').get_text()\n",
    "table = table.split(\",\")\n",
    "table = [x for x in table if x not in li]\n",
    "info.extend(table)\n",
    "d3 = dict(zip(head,info))\n",
    "metadata.append(d3)"
   ]
  },
  {
   "cell_type": "code",
   "execution_count": 16,
   "id": "8aee6280",
   "metadata": {},
   "outputs": [],
   "source": [
    "#4\n",
    "page = requests.get(url_list[4])\n",
    "bSoup = BeautifulSoup(page.content, 'html.parser')\n",
    "table = bSoup.find('table').find_all('td')\n",
    "table = BeautifulSoup(str(table), 'lxml').get_text()\n",
    "table = table.split(\",\")\n",
    "table = [x for x in table if x not in li]\n",
    "info.extend(table)\n",
    "d4 = dict(zip(head,info))\n",
    "metadata.append(d4)"
   ]
  },
  {
   "cell_type": "code",
   "execution_count": 17,
   "id": "faa7700b",
   "metadata": {},
   "outputs": [],
   "source": [
    "#5\n",
    "page = requests.get(url_list[5])\n",
    "bSoup = BeautifulSoup(page.content, 'html.parser')\n",
    "table = bSoup.find('table').find_all('td')\n",
    "table = BeautifulSoup(str(table), 'lxml').get_text()\n",
    "table = table.split(\",\")\n",
    "table = [x for x in table if x not in li]\n",
    "info.extend(table)\n",
    "d5 = dict(zip(head,info))\n",
    "metadata.append(d5)"
   ]
  },
  {
   "cell_type": "code",
   "execution_count": 18,
   "id": "f83bde93",
   "metadata": {},
   "outputs": [],
   "source": [
    "#6\n",
    "page = requests.get(url_list[6])\n",
    "bSoup = BeautifulSoup(page.content, 'html.parser')\n",
    "table = bSoup.find('table').find_all('td')\n",
    "table = BeautifulSoup(str(table), 'lxml').get_text()\n",
    "table = table.split(\",\")\n",
    "table = [x for x in table if x not in li]\n",
    "info.extend(table)\n",
    "d6 = dict(zip(head,info))\n",
    "metadata.append(d6)"
   ]
  },
  {
   "cell_type": "code",
   "execution_count": 19,
   "id": "d9151eb6",
   "metadata": {},
   "outputs": [],
   "source": [
    "#7\n",
    "page = requests.get(url_list[7])\n",
    "bSoup = BeautifulSoup(page.content, 'html.parser')\n",
    "table = bSoup.find('table').find_all('td')\n",
    "table = BeautifulSoup(str(table), 'lxml').get_text()\n",
    "table = table.split(\",\")\n",
    "table = [x for x in table if x not in li]\n",
    "info.extend(table)\n",
    "d7 = dict(zip(head,info))\n",
    "metadata.append(d7)"
   ]
  },
  {
   "cell_type": "code",
   "execution_count": 20,
   "id": "3264d03f",
   "metadata": {},
   "outputs": [],
   "source": [
    "#8\n",
    "page = requests.get(url_list[8])\n",
    "bSoup = BeautifulSoup(page.content, 'html.parser')\n",
    "table = bSoup.find('table').find_all('td')\n",
    "table = BeautifulSoup(str(table), 'lxml').get_text()\n",
    "table = table.split(\",\")\n",
    "table = [x for x in table if x not in li]\n",
    "info.extend(table)\n",
    "d8 = dict(zip(head,info))\n",
    "metadata.append(d8)"
   ]
  },
  {
   "cell_type": "code",
   "execution_count": 21,
   "id": "cabde540",
   "metadata": {},
   "outputs": [],
   "source": [
    "#9\n",
    "page = requests.get(url_list[9])\n",
    "bSoup = BeautifulSoup(page.content, 'html.parser')\n",
    "table = bSoup.find('table').find_all('td')\n",
    "table = BeautifulSoup(str(table), 'lxml').get_text()\n",
    "table = table.split(\",\")\n",
    "table = [x for x in table if x not in li]\n",
    "table[1 : 3] = [''.join(table[1 : 3])]\n",
    "info.extend(table)\n",
    "d9 = dict(zip(head,info))\n",
    "metadata.append(d9)"
   ]
  },
  {
   "cell_type": "code",
   "execution_count": 22,
   "id": "ec858950",
   "metadata": {},
   "outputs": [],
   "source": [
    "#metadata"
   ]
  },
  {
   "cell_type": "code",
   "execution_count": 23,
   "id": "9abd1b69",
   "metadata": {},
   "outputs": [],
   "source": [
    "json_object = json.dumps(metadata)"
   ]
  },
  {
   "cell_type": "code",
   "execution_count": 24,
   "id": "ca0260fc",
   "metadata": {},
   "outputs": [],
   "source": [
    "#json_object"
   ]
  },
  {
   "cell_type": "code",
   "execution_count": 25,
   "id": "902299a3",
   "metadata": {},
   "outputs": [
    {
     "name": "stdout",
     "output_type": "stream",
     "text": [
      "https://www.cases.sheriahub.com/case/c091541084/\n"
     ]
    }
   ],
   "source": [
    "print(url_list[8])"
   ]
  },
  {
   "cell_type": "code",
   "execution_count": 26,
   "id": "71c85127-8b2b-49e0-b41d-973ef3af5c08",
   "metadata": {},
   "outputs": [],
   "source": [
    "judm_html = []\n",
    "judm_text = []"
   ]
  },
  {
   "cell_type": "code",
   "execution_count": 27,
   "id": "90abbc98-72b9-4226-8514-86209bc4e1e5",
   "metadata": {},
   "outputs": [],
   "source": [
    "page = requests.get(url_list[0])\n",
    "bSoup = BeautifulSoup(page.content, 'html.parser')\n",
    "judment = bSoup.find(\"div\")\n",
    "judment = judment.find_all(\"span\")\n",
    "judm_html.append(judment)\n",
    "judment_t = BeautifulSoup(str(judment), 'lxml').get_text()\n",
    "judm_text.append(judment_t)"
   ]
  },
  {
   "cell_type": "code",
   "execution_count": 28,
   "id": "852caebb-f631-4240-903b-43a8cd974bec",
   "metadata": {},
   "outputs": [],
   "source": [
    "page = requests.get(url_list[1])\n",
    "bSoup = BeautifulSoup(page.content, 'html.parser')\n",
    "judment = bSoup.find_all(\"div\", {\"class\": \"akoma-ntoso\"})\n",
    "judm_html.append(judment)\n",
    "judment_t = BeautifulSoup(str(judment), 'lxml').get_text()\n",
    "judm_text.append(judment_t)"
   ]
  },
  {
   "cell_type": "code",
   "execution_count": 29,
   "id": "db244abd-fa77-440f-9076-d97506685f27",
   "metadata": {},
   "outputs": [],
   "source": [
    "page = requests.get(url_list[2])\n",
    "bSoup = BeautifulSoup(page.content, 'html.parser')\n",
    "judment = bSoup.find_all(\"div\", {\"class\": \"akoma-ntoso\"})\n",
    "judm_html.append(judment)\n",
    "judment_t = BeautifulSoup(str(judment), 'lxml').get_text()\n",
    "judm_text.append(judment_t)"
   ]
  },
  {
   "cell_type": "code",
   "execution_count": 30,
   "id": "87a55246-6702-4e58-aafb-5a92ab4f3fe1",
   "metadata": {},
   "outputs": [],
   "source": [
    "page = requests.get(url_list[3])\n",
    "bSoup = BeautifulSoup(page.content, 'html.parser')\n",
    "judment = bSoup.find_all(\"div\", {\"class\": \"akoma-ntoso\"})\n",
    "judm_html.append(judment)\n",
    "judment_t = BeautifulSoup(str(judment), 'lxml').get_text()\n",
    "judm_text.append(judment_t)"
   ]
  },
  {
   "cell_type": "code",
   "execution_count": 31,
   "id": "85e8fe9c-e1c1-476d-9bb2-b3b2deae7d59",
   "metadata": {},
   "outputs": [],
   "source": [
    "page = requests.get(url_list[4])\n",
    "bSoup = BeautifulSoup(page.content, 'html.parser')\n",
    "judment = bSoup.find(\"div\")\n",
    "judment = judment.find_all(\"span\")\n",
    "judm_html.append(judment)\n",
    "judment_t = BeautifulSoup(str(judment), 'lxml').get_text()\n",
    "judm_text.append(judment_t)"
   ]
  },
  {
   "cell_type": "code",
   "execution_count": 32,
   "id": "fd3de935-56a6-4ae1-8b51-9d5191758ebb",
   "metadata": {},
   "outputs": [],
   "source": [
    "page = requests.get(url_list[5])\n",
    "bSoup = BeautifulSoup(page.content, 'html.parser')\n",
    "judment = bSoup.find_all(\"div\", {\"class\": \"akoma-ntoso\"})\n",
    "judm_html.append(judment)\n",
    "judment_t = BeautifulSoup(str(judment), 'lxml').get_text()\n",
    "judm_text.append(judment_t)"
   ]
  },
  {
   "cell_type": "code",
   "execution_count": 33,
   "id": "346a88c6-fcd8-4dd9-a444-3f82381501e6",
   "metadata": {},
   "outputs": [],
   "source": [
    "page = requests.get(url_list[6])\n",
    "bSoup = BeautifulSoup(page.content, 'html.parser')\n",
    "judment = bSoup.find_all(\"div\", {\"class\": \"akoma-ntoso\"})\n",
    "judm_html.append(judment)\n",
    "judment_t = BeautifulSoup(str(judment), 'lxml').get_text()\n",
    "judm_text.append(judment_t)"
   ]
  },
  {
   "cell_type": "code",
   "execution_count": 34,
   "id": "24320dbb-6730-4291-84b8-e15b2c0c847c",
   "metadata": {},
   "outputs": [],
   "source": [
    "page = requests.get(url_list[7])\n",
    "bSoup = BeautifulSoup(page.content, 'html.parser')\n",
    "judment = bSoup.find_all(\"div\", {\"class\": \"akoma-ntoso\"})\n",
    "judm_html.append(judment)\n",
    "judment_t = BeautifulSoup(str(judment), 'lxml').get_text()\n",
    "judm_text.append(judment_t)"
   ]
  },
  {
   "cell_type": "code",
   "execution_count": 35,
   "id": "5794816b-3397-459d-ac8d-ae77efe97b61",
   "metadata": {},
   "outputs": [],
   "source": [
    "page = requests.get(url_list[8])\n",
    "bSoup = BeautifulSoup(page.content, 'html.parser')\n",
    "judment = bSoup.find(\"div\")\n",
    "judment = judment.find_all(\"span\")\n",
    "judm_html.append(judment)\n",
    "judment_t = BeautifulSoup(str(judment), 'lxml').get_text()\n",
    "judm_text.append(judment_t)"
   ]
  },
  {
   "cell_type": "code",
   "execution_count": 36,
   "id": "85255c4e-bd9d-469e-ab37-a3b92030350b",
   "metadata": {},
   "outputs": [],
   "source": [
    "page = requests.get(url_list[9])\n",
    "bSoup = BeautifulSoup(page.content, 'html.parser')\n",
    "judment = bSoup.find(\"div\")\n",
    "judment = judment.find_all(\"span\")\n",
    "judm_html.append(judment)\n",
    "judment_t = BeautifulSoup(str(judment), 'lxml').get_text()\n",
    "judm_text.append(judment_t)"
   ]
  },
  {
   "cell_type": "code",
   "execution_count": 75,
   "id": "5ac41e84-9fbf-45ed-80e0-6b57bef65241",
   "metadata": {},
   "outputs": [
    {
     "ename": "AttributeError",
     "evalue": "'int' object has no attribute 'day'",
     "output_type": "error",
     "traceback": [
      "\u001b[1;31m---------------------------------------------------------------------------\u001b[0m",
      "\u001b[1;31mAttributeError\u001b[0m                            Traceback (most recent call last)",
      "\u001b[1;32m<ipython-input-75-bbbf6261f47b>\u001b[0m in \u001b[0;36m<module>\u001b[1;34m\u001b[0m\n\u001b[1;32m----> 1\u001b[1;33m \u001b[0mdatetime\u001b[0m\u001b[1;33m.\u001b[0m\u001b[0mdatetime\u001b[0m\u001b[1;33m.\u001b[0m\u001b[0mtoday\u001b[0m\u001b[1;33m(\u001b[0m\u001b[1;33m)\u001b[0m\u001b[1;33m.\u001b[0m\u001b[0mmonth\u001b[0m\u001b[1;33m.\u001b[0m\u001b[0mday\u001b[0m\u001b[1;33m\u001b[0m\u001b[1;33m\u001b[0m\u001b[0m\n\u001b[0m",
      "\u001b[1;31mAttributeError\u001b[0m: 'int' object has no attribute 'day'"
     ]
    }
   ],
   "source": [
    "datetime.datetime.today().month.day"
   ]
  },
  {
   "cell_type": "code",
   "execution_count": 37,
   "id": "09a120d5-7d07-47be-8a6b-4d3cc8ef06ae",
   "metadata": {},
   "outputs": [],
   "source": [
    "pdfs = []\n",
    "for i in range(len(url_list)):\n",
    "    page = requests.get(url_list[i])\n",
    "    bSoup = BeautifulSoup(page.content, 'html.parser')\n",
    "    pdf = bSoup.find(\"a\", {\"class\":\"btn btn-primary pull-right\"})\n",
    "    pdf_link = pdf.get('href')\n",
    "    with open(str(i)+\".pdf\", 'wb') as file:\n",
    "        response = requests.get(pdf_link)\n",
    "        file.write(response.content)\n",
    "    #pdfs.append(pdf)"
   ]
  },
  {
   "cell_type": "code",
   "execution_count": 80,
   "id": "25f96fbc-6b2b-4110-8751-fc392ebd26e1",
   "metadata": {},
   "outputs": [
    {
     "data": {
      "text/plain": [
       "[datetime.date(2021, 9, 18),\n",
       " datetime.date(2021, 9, 18),\n",
       " datetime.date(2021, 9, 18),\n",
       " datetime.date(2021, 9, 18),\n",
       " datetime.date(2021, 9, 18),\n",
       " datetime.date(2021, 9, 18),\n",
       " datetime.date(2021, 9, 18),\n",
       " datetime.date(2021, 9, 18),\n",
       " datetime.date(2021, 9, 18),\n",
       " datetime.date(2021, 9, 18)]"
      ]
     },
     "execution_count": 80,
     "metadata": {},
     "output_type": "execute_result"
    }
   ],
   "source": [
    "date_list = [datetime.date.today() for x in range(10)]\n",
    "date_list"
   ]
  },
  {
   "cell_type": "code",
   "execution_count": 107,
   "id": "c5724645",
   "metadata": {},
   "outputs": [
    {
     "ename": "ProgrammingError",
     "evalue": "1045 (28000): Access denied for user '1st_datascience'@'94.98.41.184' (using password: YES)",
     "output_type": "error",
     "traceback": [
      "\u001b[1;31m---------------------------------------------------------------------------\u001b[0m",
      "\u001b[1;31mProgrammingError\u001b[0m                          Traceback (most recent call last)",
      "\u001b[1;32m<ipython-input-107-12ef9b06dd48>\u001b[0m in \u001b[0;36m<module>\u001b[1;34m\u001b[0m\n\u001b[0;32m      3\u001b[0m       \u001b[0muser\u001b[0m \u001b[1;33m=\u001b[0m \u001b[1;34m\"1st_datascience\"\u001b[0m\u001b[1;33m,\u001b[0m\u001b[1;33m\u001b[0m\u001b[1;33m\u001b[0m\u001b[0m\n\u001b[0;32m      4\u001b[0m       \u001b[0mpasswd\u001b[0m \u001b[1;33m=\u001b[0m \u001b[1;34m\"important!and?Secured\"\u001b[0m\u001b[1;33m,\u001b[0m\u001b[1;33m\u001b[0m\u001b[1;33m\u001b[0m\u001b[0m\n\u001b[1;32m----> 5\u001b[1;33m      database = \"datascience_interns\")\n\u001b[0m",
      "\u001b[1;32m~\\anaconda3\\envs\\webScraping\\lib\\site-packages\\mysql\\connector\\__init__.py\u001b[0m in \u001b[0;36mconnect\u001b[1;34m(*args, **kwargs)\u001b[0m\n\u001b[0;32m    271\u001b[0m     \u001b[1;32mif\u001b[0m \u001b[0mHAVE_CEXT\u001b[0m \u001b[1;32mand\u001b[0m \u001b[1;32mnot\u001b[0m \u001b[0muse_pure\u001b[0m\u001b[1;33m:\u001b[0m\u001b[1;33m\u001b[0m\u001b[1;33m\u001b[0m\u001b[0m\n\u001b[0;32m    272\u001b[0m         \u001b[1;32mreturn\u001b[0m \u001b[0mCMySQLConnection\u001b[0m\u001b[1;33m(\u001b[0m\u001b[1;33m*\u001b[0m\u001b[0margs\u001b[0m\u001b[1;33m,\u001b[0m \u001b[1;33m**\u001b[0m\u001b[0mkwargs\u001b[0m\u001b[1;33m)\u001b[0m\u001b[1;33m\u001b[0m\u001b[1;33m\u001b[0m\u001b[0m\n\u001b[1;32m--> 273\u001b[1;33m     \u001b[1;32mreturn\u001b[0m \u001b[0mMySQLConnection\u001b[0m\u001b[1;33m(\u001b[0m\u001b[1;33m*\u001b[0m\u001b[0margs\u001b[0m\u001b[1;33m,\u001b[0m \u001b[1;33m**\u001b[0m\u001b[0mkwargs\u001b[0m\u001b[1;33m)\u001b[0m\u001b[1;33m\u001b[0m\u001b[1;33m\u001b[0m\u001b[0m\n\u001b[0m\u001b[0;32m    274\u001b[0m \u001b[0mConnect\u001b[0m \u001b[1;33m=\u001b[0m \u001b[0mconnect\u001b[0m  \u001b[1;31m# pylint: disable=C0103\u001b[0m\u001b[1;33m\u001b[0m\u001b[1;33m\u001b[0m\u001b[0m\n\u001b[0;32m    275\u001b[0m \u001b[1;33m\u001b[0m\u001b[0m\n",
      "\u001b[1;32m~\\anaconda3\\envs\\webScraping\\lib\\site-packages\\mysql\\connector\\connection.py\u001b[0m in \u001b[0;36m__init__\u001b[1;34m(self, *args, **kwargs)\u001b[0m\n\u001b[0;32m    112\u001b[0m         \u001b[1;32mif\u001b[0m \u001b[0mkwargs\u001b[0m\u001b[1;33m:\u001b[0m\u001b[1;33m\u001b[0m\u001b[1;33m\u001b[0m\u001b[0m\n\u001b[0;32m    113\u001b[0m             \u001b[1;32mtry\u001b[0m\u001b[1;33m:\u001b[0m\u001b[1;33m\u001b[0m\u001b[1;33m\u001b[0m\u001b[0m\n\u001b[1;32m--> 114\u001b[1;33m                 \u001b[0mself\u001b[0m\u001b[1;33m.\u001b[0m\u001b[0mconnect\u001b[0m\u001b[1;33m(\u001b[0m\u001b[1;33m**\u001b[0m\u001b[0mkwargs\u001b[0m\u001b[1;33m)\u001b[0m\u001b[1;33m\u001b[0m\u001b[1;33m\u001b[0m\u001b[0m\n\u001b[0m\u001b[0;32m    115\u001b[0m             \u001b[1;32mexcept\u001b[0m\u001b[1;33m:\u001b[0m\u001b[1;33m\u001b[0m\u001b[1;33m\u001b[0m\u001b[0m\n\u001b[0;32m    116\u001b[0m                 \u001b[1;31m# Tidy-up underlying socket on failure\u001b[0m\u001b[1;33m\u001b[0m\u001b[1;33m\u001b[0m\u001b[1;33m\u001b[0m\u001b[0m\n",
      "\u001b[1;32m~\\anaconda3\\envs\\webScraping\\lib\\site-packages\\mysql\\connector\\abstracts.py\u001b[0m in \u001b[0;36mconnect\u001b[1;34m(self, **kwargs)\u001b[0m\n\u001b[0;32m   1007\u001b[0m \u001b[1;33m\u001b[0m\u001b[0m\n\u001b[0;32m   1008\u001b[0m         \u001b[0mself\u001b[0m\u001b[1;33m.\u001b[0m\u001b[0mdisconnect\u001b[0m\u001b[1;33m(\u001b[0m\u001b[1;33m)\u001b[0m\u001b[1;33m\u001b[0m\u001b[1;33m\u001b[0m\u001b[0m\n\u001b[1;32m-> 1009\u001b[1;33m         \u001b[0mself\u001b[0m\u001b[1;33m.\u001b[0m\u001b[0m_open_connection\u001b[0m\u001b[1;33m(\u001b[0m\u001b[1;33m)\u001b[0m\u001b[1;33m\u001b[0m\u001b[1;33m\u001b[0m\u001b[0m\n\u001b[0m\u001b[0;32m   1010\u001b[0m         \u001b[1;31m# Server does not allow to run any other statement different from ALTER\u001b[0m\u001b[1;33m\u001b[0m\u001b[1;33m\u001b[0m\u001b[1;33m\u001b[0m\u001b[0m\n\u001b[0;32m   1011\u001b[0m         \u001b[1;31m# when user's password has been expired.\u001b[0m\u001b[1;33m\u001b[0m\u001b[1;33m\u001b[0m\u001b[1;33m\u001b[0m\u001b[0m\n",
      "\u001b[1;32m~\\anaconda3\\envs\\webScraping\\lib\\site-packages\\mysql\\connector\\connection.py\u001b[0m in \u001b[0;36m_open_connection\u001b[1;34m(self)\u001b[0m\n\u001b[0;32m    420\u001b[0m             self._do_auth(self._user, self._password,\n\u001b[0;32m    421\u001b[0m                           \u001b[0mself\u001b[0m\u001b[1;33m.\u001b[0m\u001b[0m_database\u001b[0m\u001b[1;33m,\u001b[0m \u001b[0mself\u001b[0m\u001b[1;33m.\u001b[0m\u001b[0m_client_flags\u001b[0m\u001b[1;33m,\u001b[0m \u001b[0mself\u001b[0m\u001b[1;33m.\u001b[0m\u001b[0m_charset_id\u001b[0m\u001b[1;33m,\u001b[0m\u001b[1;33m\u001b[0m\u001b[1;33m\u001b[0m\u001b[0m\n\u001b[1;32m--> 422\u001b[1;33m                           self._ssl, self._conn_attrs)\n\u001b[0m\u001b[0;32m    423\u001b[0m             \u001b[0mself\u001b[0m\u001b[1;33m.\u001b[0m\u001b[0mset_converter_class\u001b[0m\u001b[1;33m(\u001b[0m\u001b[0mself\u001b[0m\u001b[1;33m.\u001b[0m\u001b[0m_converter_class\u001b[0m\u001b[1;33m)\u001b[0m\u001b[1;33m\u001b[0m\u001b[1;33m\u001b[0m\u001b[0m\n\u001b[0;32m    424\u001b[0m             \u001b[1;32mif\u001b[0m \u001b[0mself\u001b[0m\u001b[1;33m.\u001b[0m\u001b[0m_client_flags\u001b[0m \u001b[1;33m&\u001b[0m \u001b[0mClientFlag\u001b[0m\u001b[1;33m.\u001b[0m\u001b[0mCOMPRESS\u001b[0m\u001b[1;33m:\u001b[0m\u001b[1;33m\u001b[0m\u001b[1;33m\u001b[0m\u001b[0m\n",
      "\u001b[1;32m~\\anaconda3\\envs\\webScraping\\lib\\site-packages\\mysql\\connector\\connection.py\u001b[0m in \u001b[0;36m_do_auth\u001b[1;34m(self, username, password, database, client_flags, charset, ssl_options, conn_attrs)\u001b[0m\n\u001b[0;32m    228\u001b[0m             conn_attrs=conn_attrs)\n\u001b[0;32m    229\u001b[0m         \u001b[0mself\u001b[0m\u001b[1;33m.\u001b[0m\u001b[0m_socket\u001b[0m\u001b[1;33m.\u001b[0m\u001b[0msend\u001b[0m\u001b[1;33m(\u001b[0m\u001b[0mpacket\u001b[0m\u001b[1;33m)\u001b[0m\u001b[1;33m\u001b[0m\u001b[1;33m\u001b[0m\u001b[0m\n\u001b[1;32m--> 230\u001b[1;33m         \u001b[0mself\u001b[0m\u001b[1;33m.\u001b[0m\u001b[0m_auth_switch_request\u001b[0m\u001b[1;33m(\u001b[0m\u001b[0musername\u001b[0m\u001b[1;33m,\u001b[0m \u001b[0mpassword\u001b[0m\u001b[1;33m)\u001b[0m\u001b[1;33m\u001b[0m\u001b[1;33m\u001b[0m\u001b[0m\n\u001b[0m\u001b[0;32m    231\u001b[0m \u001b[1;33m\u001b[0m\u001b[0m\n\u001b[0;32m    232\u001b[0m         \u001b[1;32mif\u001b[0m \u001b[1;32mnot\u001b[0m \u001b[1;33m(\u001b[0m\u001b[0mclient_flags\u001b[0m \u001b[1;33m&\u001b[0m \u001b[0mClientFlag\u001b[0m\u001b[1;33m.\u001b[0m\u001b[0mCONNECT_WITH_DB\u001b[0m\u001b[1;33m)\u001b[0m \u001b[1;32mand\u001b[0m \u001b[0mdatabase\u001b[0m\u001b[1;33m:\u001b[0m\u001b[1;33m\u001b[0m\u001b[1;33m\u001b[0m\u001b[0m\n",
      "\u001b[1;32m~\\anaconda3\\envs\\webScraping\\lib\\site-packages\\mysql\\connector\\connection.py\u001b[0m in \u001b[0;36m_auth_switch_request\u001b[1;34m(self, username, password)\u001b[0m\n\u001b[0;32m    375\u001b[0m             \u001b[1;32mreturn\u001b[0m \u001b[0mself\u001b[0m\u001b[1;33m.\u001b[0m\u001b[0m_handle_ok\u001b[0m\u001b[1;33m(\u001b[0m\u001b[0mpacket\u001b[0m\u001b[1;33m)\u001b[0m\u001b[1;33m\u001b[0m\u001b[1;33m\u001b[0m\u001b[0m\n\u001b[0;32m    376\u001b[0m         \u001b[1;32melif\u001b[0m \u001b[0mpacket\u001b[0m\u001b[1;33m[\u001b[0m\u001b[1;36m4\u001b[0m\u001b[1;33m]\u001b[0m \u001b[1;33m==\u001b[0m \u001b[1;36m255\u001b[0m\u001b[1;33m:\u001b[0m\u001b[1;33m\u001b[0m\u001b[1;33m\u001b[0m\u001b[0m\n\u001b[1;32m--> 377\u001b[1;33m             \u001b[1;32mraise\u001b[0m \u001b[0merrors\u001b[0m\u001b[1;33m.\u001b[0m\u001b[0mget_exception\u001b[0m\u001b[1;33m(\u001b[0m\u001b[0mpacket\u001b[0m\u001b[1;33m)\u001b[0m\u001b[1;33m\u001b[0m\u001b[1;33m\u001b[0m\u001b[0m\n\u001b[0m\u001b[0;32m    378\u001b[0m         \u001b[1;32mreturn\u001b[0m \u001b[1;32mNone\u001b[0m\u001b[1;33m\u001b[0m\u001b[1;33m\u001b[0m\u001b[0m\n\u001b[0;32m    379\u001b[0m \u001b[1;33m\u001b[0m\u001b[0m\n",
      "\u001b[1;31mProgrammingError\u001b[0m: 1045 (28000): Access denied for user '1st_datascience'@'94.98.41.184' (using password: YES)"
     ]
    }
   ],
   "source": [
    "db = mysql.connector.connect(\n",
    "      host = \"uc.utatuzicenter.com\",\n",
    "      user = \"1st_datascience\",\n",
    "      passwd = \"important!and?Secured\",\n",
    "     database = \"datascience_interns\")"
   ]
  },
  {
   "cell_type": "code",
   "execution_count": 105,
   "id": "e0ef9b3f-7243-4276-8b15-2c727f6626d5",
   "metadata": {},
   "outputs": [
    {
     "ename": "ProgrammingError",
     "evalue": "1045 (28000): Access denied for user '1st_datascience'@'94.98.41.184' (using password: YES)",
     "output_type": "error",
     "traceback": [
      "\u001b[1;31m---------------------------------------------------------------------------\u001b[0m",
      "\u001b[1;31mProgrammingError\u001b[0m                          Traceback (most recent call last)",
      "\u001b[1;32m<ipython-input-105-791def8e5dbd>\u001b[0m in \u001b[0;36m<module>\u001b[1;34m\u001b[0m\n\u001b[0;32m      1\u001b[0m mysql.connector.connect(user=\"1st_datascience\", password=\"important!and?Secured\",\n\u001b[0;32m      2\u001b[0m                               \u001b[0mhost\u001b[0m\u001b[1;33m=\u001b[0m\u001b[1;34m\"uc.utatuzicenter.com\"\u001b[0m\u001b[1;33m,\u001b[0m\u001b[1;33m\u001b[0m\u001b[1;33m\u001b[0m\u001b[0m\n\u001b[1;32m----> 3\u001b[1;33m                               database=\"datascience_interns\")\n\u001b[0m",
      "\u001b[1;32m~\\anaconda3\\envs\\webScraping\\lib\\site-packages\\mysql\\connector\\__init__.py\u001b[0m in \u001b[0;36mconnect\u001b[1;34m(*args, **kwargs)\u001b[0m\n\u001b[0;32m    271\u001b[0m     \u001b[1;32mif\u001b[0m \u001b[0mHAVE_CEXT\u001b[0m \u001b[1;32mand\u001b[0m \u001b[1;32mnot\u001b[0m \u001b[0muse_pure\u001b[0m\u001b[1;33m:\u001b[0m\u001b[1;33m\u001b[0m\u001b[1;33m\u001b[0m\u001b[0m\n\u001b[0;32m    272\u001b[0m         \u001b[1;32mreturn\u001b[0m \u001b[0mCMySQLConnection\u001b[0m\u001b[1;33m(\u001b[0m\u001b[1;33m*\u001b[0m\u001b[0margs\u001b[0m\u001b[1;33m,\u001b[0m \u001b[1;33m**\u001b[0m\u001b[0mkwargs\u001b[0m\u001b[1;33m)\u001b[0m\u001b[1;33m\u001b[0m\u001b[1;33m\u001b[0m\u001b[0m\n\u001b[1;32m--> 273\u001b[1;33m     \u001b[1;32mreturn\u001b[0m \u001b[0mMySQLConnection\u001b[0m\u001b[1;33m(\u001b[0m\u001b[1;33m*\u001b[0m\u001b[0margs\u001b[0m\u001b[1;33m,\u001b[0m \u001b[1;33m**\u001b[0m\u001b[0mkwargs\u001b[0m\u001b[1;33m)\u001b[0m\u001b[1;33m\u001b[0m\u001b[1;33m\u001b[0m\u001b[0m\n\u001b[0m\u001b[0;32m    274\u001b[0m \u001b[0mConnect\u001b[0m \u001b[1;33m=\u001b[0m \u001b[0mconnect\u001b[0m  \u001b[1;31m# pylint: disable=C0103\u001b[0m\u001b[1;33m\u001b[0m\u001b[1;33m\u001b[0m\u001b[0m\n\u001b[0;32m    275\u001b[0m \u001b[1;33m\u001b[0m\u001b[0m\n",
      "\u001b[1;32m~\\anaconda3\\envs\\webScraping\\lib\\site-packages\\mysql\\connector\\connection.py\u001b[0m in \u001b[0;36m__init__\u001b[1;34m(self, *args, **kwargs)\u001b[0m\n\u001b[0;32m    112\u001b[0m         \u001b[1;32mif\u001b[0m \u001b[0mkwargs\u001b[0m\u001b[1;33m:\u001b[0m\u001b[1;33m\u001b[0m\u001b[1;33m\u001b[0m\u001b[0m\n\u001b[0;32m    113\u001b[0m             \u001b[1;32mtry\u001b[0m\u001b[1;33m:\u001b[0m\u001b[1;33m\u001b[0m\u001b[1;33m\u001b[0m\u001b[0m\n\u001b[1;32m--> 114\u001b[1;33m                 \u001b[0mself\u001b[0m\u001b[1;33m.\u001b[0m\u001b[0mconnect\u001b[0m\u001b[1;33m(\u001b[0m\u001b[1;33m**\u001b[0m\u001b[0mkwargs\u001b[0m\u001b[1;33m)\u001b[0m\u001b[1;33m\u001b[0m\u001b[1;33m\u001b[0m\u001b[0m\n\u001b[0m\u001b[0;32m    115\u001b[0m             \u001b[1;32mexcept\u001b[0m\u001b[1;33m:\u001b[0m\u001b[1;33m\u001b[0m\u001b[1;33m\u001b[0m\u001b[0m\n\u001b[0;32m    116\u001b[0m                 \u001b[1;31m# Tidy-up underlying socket on failure\u001b[0m\u001b[1;33m\u001b[0m\u001b[1;33m\u001b[0m\u001b[1;33m\u001b[0m\u001b[0m\n",
      "\u001b[1;32m~\\anaconda3\\envs\\webScraping\\lib\\site-packages\\mysql\\connector\\abstracts.py\u001b[0m in \u001b[0;36mconnect\u001b[1;34m(self, **kwargs)\u001b[0m\n\u001b[0;32m   1007\u001b[0m \u001b[1;33m\u001b[0m\u001b[0m\n\u001b[0;32m   1008\u001b[0m         \u001b[0mself\u001b[0m\u001b[1;33m.\u001b[0m\u001b[0mdisconnect\u001b[0m\u001b[1;33m(\u001b[0m\u001b[1;33m)\u001b[0m\u001b[1;33m\u001b[0m\u001b[1;33m\u001b[0m\u001b[0m\n\u001b[1;32m-> 1009\u001b[1;33m         \u001b[0mself\u001b[0m\u001b[1;33m.\u001b[0m\u001b[0m_open_connection\u001b[0m\u001b[1;33m(\u001b[0m\u001b[1;33m)\u001b[0m\u001b[1;33m\u001b[0m\u001b[1;33m\u001b[0m\u001b[0m\n\u001b[0m\u001b[0;32m   1010\u001b[0m         \u001b[1;31m# Server does not allow to run any other statement different from ALTER\u001b[0m\u001b[1;33m\u001b[0m\u001b[1;33m\u001b[0m\u001b[1;33m\u001b[0m\u001b[0m\n\u001b[0;32m   1011\u001b[0m         \u001b[1;31m# when user's password has been expired.\u001b[0m\u001b[1;33m\u001b[0m\u001b[1;33m\u001b[0m\u001b[1;33m\u001b[0m\u001b[0m\n",
      "\u001b[1;32m~\\anaconda3\\envs\\webScraping\\lib\\site-packages\\mysql\\connector\\connection.py\u001b[0m in \u001b[0;36m_open_connection\u001b[1;34m(self)\u001b[0m\n\u001b[0;32m    420\u001b[0m             self._do_auth(self._user, self._password,\n\u001b[0;32m    421\u001b[0m                           \u001b[0mself\u001b[0m\u001b[1;33m.\u001b[0m\u001b[0m_database\u001b[0m\u001b[1;33m,\u001b[0m \u001b[0mself\u001b[0m\u001b[1;33m.\u001b[0m\u001b[0m_client_flags\u001b[0m\u001b[1;33m,\u001b[0m \u001b[0mself\u001b[0m\u001b[1;33m.\u001b[0m\u001b[0m_charset_id\u001b[0m\u001b[1;33m,\u001b[0m\u001b[1;33m\u001b[0m\u001b[1;33m\u001b[0m\u001b[0m\n\u001b[1;32m--> 422\u001b[1;33m                           self._ssl, self._conn_attrs)\n\u001b[0m\u001b[0;32m    423\u001b[0m             \u001b[0mself\u001b[0m\u001b[1;33m.\u001b[0m\u001b[0mset_converter_class\u001b[0m\u001b[1;33m(\u001b[0m\u001b[0mself\u001b[0m\u001b[1;33m.\u001b[0m\u001b[0m_converter_class\u001b[0m\u001b[1;33m)\u001b[0m\u001b[1;33m\u001b[0m\u001b[1;33m\u001b[0m\u001b[0m\n\u001b[0;32m    424\u001b[0m             \u001b[1;32mif\u001b[0m \u001b[0mself\u001b[0m\u001b[1;33m.\u001b[0m\u001b[0m_client_flags\u001b[0m \u001b[1;33m&\u001b[0m \u001b[0mClientFlag\u001b[0m\u001b[1;33m.\u001b[0m\u001b[0mCOMPRESS\u001b[0m\u001b[1;33m:\u001b[0m\u001b[1;33m\u001b[0m\u001b[1;33m\u001b[0m\u001b[0m\n",
      "\u001b[1;32m~\\anaconda3\\envs\\webScraping\\lib\\site-packages\\mysql\\connector\\connection.py\u001b[0m in \u001b[0;36m_do_auth\u001b[1;34m(self, username, password, database, client_flags, charset, ssl_options, conn_attrs)\u001b[0m\n\u001b[0;32m    228\u001b[0m             conn_attrs=conn_attrs)\n\u001b[0;32m    229\u001b[0m         \u001b[0mself\u001b[0m\u001b[1;33m.\u001b[0m\u001b[0m_socket\u001b[0m\u001b[1;33m.\u001b[0m\u001b[0msend\u001b[0m\u001b[1;33m(\u001b[0m\u001b[0mpacket\u001b[0m\u001b[1;33m)\u001b[0m\u001b[1;33m\u001b[0m\u001b[1;33m\u001b[0m\u001b[0m\n\u001b[1;32m--> 230\u001b[1;33m         \u001b[0mself\u001b[0m\u001b[1;33m.\u001b[0m\u001b[0m_auth_switch_request\u001b[0m\u001b[1;33m(\u001b[0m\u001b[0musername\u001b[0m\u001b[1;33m,\u001b[0m \u001b[0mpassword\u001b[0m\u001b[1;33m)\u001b[0m\u001b[1;33m\u001b[0m\u001b[1;33m\u001b[0m\u001b[0m\n\u001b[0m\u001b[0;32m    231\u001b[0m \u001b[1;33m\u001b[0m\u001b[0m\n\u001b[0;32m    232\u001b[0m         \u001b[1;32mif\u001b[0m \u001b[1;32mnot\u001b[0m \u001b[1;33m(\u001b[0m\u001b[0mclient_flags\u001b[0m \u001b[1;33m&\u001b[0m \u001b[0mClientFlag\u001b[0m\u001b[1;33m.\u001b[0m\u001b[0mCONNECT_WITH_DB\u001b[0m\u001b[1;33m)\u001b[0m \u001b[1;32mand\u001b[0m \u001b[0mdatabase\u001b[0m\u001b[1;33m:\u001b[0m\u001b[1;33m\u001b[0m\u001b[1;33m\u001b[0m\u001b[0m\n",
      "\u001b[1;32m~\\anaconda3\\envs\\webScraping\\lib\\site-packages\\mysql\\connector\\connection.py\u001b[0m in \u001b[0;36m_auth_switch_request\u001b[1;34m(self, username, password)\u001b[0m\n\u001b[0;32m    375\u001b[0m             \u001b[1;32mreturn\u001b[0m \u001b[0mself\u001b[0m\u001b[1;33m.\u001b[0m\u001b[0m_handle_ok\u001b[0m\u001b[1;33m(\u001b[0m\u001b[0mpacket\u001b[0m\u001b[1;33m)\u001b[0m\u001b[1;33m\u001b[0m\u001b[1;33m\u001b[0m\u001b[0m\n\u001b[0;32m    376\u001b[0m         \u001b[1;32melif\u001b[0m \u001b[0mpacket\u001b[0m\u001b[1;33m[\u001b[0m\u001b[1;36m4\u001b[0m\u001b[1;33m]\u001b[0m \u001b[1;33m==\u001b[0m \u001b[1;36m255\u001b[0m\u001b[1;33m:\u001b[0m\u001b[1;33m\u001b[0m\u001b[1;33m\u001b[0m\u001b[0m\n\u001b[1;32m--> 377\u001b[1;33m             \u001b[1;32mraise\u001b[0m \u001b[0merrors\u001b[0m\u001b[1;33m.\u001b[0m\u001b[0mget_exception\u001b[0m\u001b[1;33m(\u001b[0m\u001b[0mpacket\u001b[0m\u001b[1;33m)\u001b[0m\u001b[1;33m\u001b[0m\u001b[1;33m\u001b[0m\u001b[0m\n\u001b[0m\u001b[0;32m    378\u001b[0m         \u001b[1;32mreturn\u001b[0m \u001b[1;32mNone\u001b[0m\u001b[1;33m\u001b[0m\u001b[1;33m\u001b[0m\u001b[0m\n\u001b[0;32m    379\u001b[0m \u001b[1;33m\u001b[0m\u001b[0m\n",
      "\u001b[1;31mProgrammingError\u001b[0m: 1045 (28000): Access denied for user '1st_datascience'@'94.98.41.184' (using password: YES)"
     ]
    }
   ],
   "source": [
    "mysql.connector.connect(user=\"1st_datascience\", password=\"important!and?Secured\",\n",
    "                              host=\"uc.utatuzicenter.com\",\n",
    "                              database=\"datascience_interns\")"
   ]
  },
  {
   "cell_type": "code",
   "execution_count": 82,
   "id": "f5bf76b5",
   "metadata": {},
   "outputs": [
    {
     "ename": "NameError",
     "evalue": "name 'db' is not defined",
     "output_type": "error",
     "traceback": [
      "\u001b[1;31m---------------------------------------------------------------------------\u001b[0m",
      "\u001b[1;31mNameError\u001b[0m                                 Traceback (most recent call last)",
      "\u001b[1;32m<ipython-input-82-8294821d5b99>\u001b[0m in \u001b[0;36m<module>\u001b[1;34m\u001b[0m\n\u001b[1;32m----> 1\u001b[1;33m \u001b[0mmycursor\u001b[0m \u001b[1;33m=\u001b[0m \u001b[0mdb\u001b[0m\u001b[1;33m.\u001b[0m\u001b[0mcursor\u001b[0m\u001b[1;33m(\u001b[0m\u001b[1;33m)\u001b[0m\u001b[1;33m\u001b[0m\u001b[1;33m\u001b[0m\u001b[0m\n\u001b[0m",
      "\u001b[1;31mNameError\u001b[0m: name 'db' is not defined"
     ]
    }
   ],
   "source": [
    "mycursor = db.cursor()"
   ]
  },
  {
   "cell_type": "code",
   "execution_count": 152,
   "id": "d98d3199",
   "metadata": {},
   "outputs": [
    {
     "name": "stdout",
     "output_type": "stream",
     "text": [
      "('id', 'int(11)', 'NO', 'PRI', None, 'auto_increment')\n",
      "('case_title', 'varchar(225)', 'NO', '', None, '')\n",
      "('metadata', 'json', 'NO', '', None, '')\n",
      "('case_judgement_html', 'mediumtext', 'NO', '', None, '')\n",
      "('case_judgement_text', 'mediumtext', 'NO', '', None, '')\n",
      "('pdf', 'blob', 'NO', '', None, '')\n",
      "('date', 'datetime', 'NO', '', None, '')\n"
     ]
    }
   ],
   "source": [
    "mycursor.execute(\"DESCRIBE shaima_aljahani\")\n",
    "for x in mycursor:\n",
    "    print(x)"
   ]
  },
  {
   "cell_type": "code",
   "execution_count": 526,
   "id": "cb0d55b2",
   "metadata": {},
   "outputs": [
    {
     "data": {
      "text/plain": [
       "['[Judicial Review 06 of 2020 - Francis Manthi Kitobe v County Surveyor Makueni County; Tabitha Maka, Titus Mutuku Kimandi & Nicholas Kyalo Kimandi (Interested parties)]',\n",
       " '[Civil Suit 45 of 2011 - Anthony Kiai t/a High Flyer Services and Publisher & another v Peter Mwangi Gichuki t/a High Flyer Services and Publisher & another]',\n",
       " '[Civil Suit 386 of 2016 - Onyango v Techspa General Supplies & 2 others]',\n",
       " '[Income Tax Appeal E152 of 2020 - Commissioner of Domestic Taxes v Dodwell and Company (EA) Limited]',\n",
       " '[Judicial Review  Application 34 of 2020 - Republic v Standards Tribunal;Ex parte Applicant Kenya Bureau of Standards;Harleys Limited(Interested Party)]',\n",
       " '[Income Tax Appeal E100 of 2020 - Commissioner of Domestic Taxes v Metoxide Limited]',\n",
       " '[Miscellaneous Application E127 of 2021 - Maersk Kenya Limited v Nirav Agencies Limited]',\n",
       " '[Civil Appeal E036 of 2021 - Noor & another v Bank of Africa Limited & 2 others]',\n",
       " '[Criminal Appeal 144 of 2018 - Martin Mukhisa Wafula v Republic]',\n",
       " '[Environment and Land Case E003 of 2021 - Impact Chemicals Limited v County Government of Kisumu & Land Registrar, Kisumu; Kenya Commercial Bank Ltd (Interested Party)]']"
      ]
     },
     "execution_count": 526,
     "metadata": {},
     "output_type": "execute_result"
    }
   ],
   "source": [
    "list(taitels)"
   ]
  },
  {
   "cell_type": "code",
   "execution_count": 75,
   "id": "d9e4e9c2",
   "metadata": {},
   "outputs": [],
   "source": [
    "id_tuple = tuple(taitels)\n",
    "for i in range(len(id_tuple)):\n",
    "    query = 'INSERT INTO `shaima_aljahani` (`case_title`) VALUES (\"{}\")'.format(id_tuple[i])\n",
    "    mycursor.execute(query)\n",
    "    db.commit()"
   ]
  },
  {
   "cell_type": "code",
   "execution_count": 79,
   "id": "d0508a0f-045c-4c4d-8cc4-2440374fec0c",
   "metadata": {},
   "outputs": [],
   "source": [
    "for i in range(len(metadata)):\n",
    "    query1 = \"UPDATE `shaima_aljahani` SET `metadata`= '{}' WHERE `id`={}\" .format(json.dumps(metadata[i]),i+1)\n",
    "    mycursor.execute(query1)\n",
    "    db.commit()"
   ]
  },
  {
   "cell_type": "code",
   "execution_count": 179,
   "id": "35fed2c8-1271-4c69-9e0a-9f1c1d1ffa47",
   "metadata": {},
   "outputs": [],
   "source": [
    "# for i in range(len(judm_html)):\n",
    "query2 = 'UPDATE `shaima_aljahani` SET `case_judgement_html`= \"{}\" WHERE `id`={}' .format(judm_html[0],2)\n",
    "# mycursor.execute(query2)\n"
   ]
  },
  {
   "cell_type": "code",
   "execution_count": null,
   "id": "30783fb8-1295-47ba-a10d-9fd5f1557430",
   "metadata": {},
   "outputs": [],
   "source": []
  },
  {
   "cell_type": "code",
   "execution_count": 185,
   "id": "219fdfec-187f-4435-8da5-1914e9cd1e46",
   "metadata": {},
   "outputs": [
    {
     "ename": "DatabaseError",
     "evalue": "1205 (HY000): Lock wait timeout exceeded; try restarting transaction",
     "output_type": "error",
     "traceback": [
      "\u001b[1;31m---------------------------------------------------------------------------\u001b[0m",
      "\u001b[1;31mDatabaseError\u001b[0m                             Traceback (most recent call last)",
      "\u001b[1;32m<ipython-input-185-85535c09963c>\u001b[0m in \u001b[0;36m<module>\u001b[1;34m\u001b[0m\n\u001b[0;32m      1\u001b[0m \u001b[1;31m# for i in range(len(judm_text)):\u001b[0m\u001b[1;33m\u001b[0m\u001b[1;33m\u001b[0m\u001b[1;33m\u001b[0m\u001b[0m\n\u001b[0;32m      2\u001b[0m \u001b[0mquery1\u001b[0m \u001b[1;33m=\u001b[0m \u001b[1;34m\"UPDATE `shaima_aljahani` SET `case_judgement_text`= '{}' WHERE `id`={}\"\u001b[0m \u001b[1;33m.\u001b[0m\u001b[0mformat\u001b[0m\u001b[1;33m(\u001b[0m\u001b[0mjudm_text\u001b[0m\u001b[1;33m[\u001b[0m\u001b[1;36m0\u001b[0m\u001b[1;33m]\u001b[0m\u001b[1;33m,\u001b[0m\u001b[1;36m1\u001b[0m\u001b[1;33m)\u001b[0m\u001b[1;33m\u001b[0m\u001b[1;33m\u001b[0m\u001b[0m\n\u001b[1;32m----> 3\u001b[1;33m \u001b[0mmycursor\u001b[0m\u001b[1;33m.\u001b[0m\u001b[0mexecute\u001b[0m\u001b[1;33m(\u001b[0m\u001b[0mquery1\u001b[0m\u001b[1;33m)\u001b[0m\u001b[1;33m\u001b[0m\u001b[1;33m\u001b[0m\u001b[0m\n\u001b[0m\u001b[0;32m      4\u001b[0m \u001b[1;31m# db.commit()\u001b[0m\u001b[1;33m\u001b[0m\u001b[1;33m\u001b[0m\u001b[1;33m\u001b[0m\u001b[0m\n",
      "\u001b[1;32m~\\anaconda3\\envs\\webScraping\\lib\\site-packages\\mysql\\connector\\cursor.py\u001b[0m in \u001b[0;36mexecute\u001b[1;34m(self, operation, params, multi)\u001b[0m\n\u001b[0;32m    566\u001b[0m \u001b[1;33m\u001b[0m\u001b[0m\n\u001b[0;32m    567\u001b[0m         \u001b[1;32mtry\u001b[0m\u001b[1;33m:\u001b[0m\u001b[1;33m\u001b[0m\u001b[1;33m\u001b[0m\u001b[0m\n\u001b[1;32m--> 568\u001b[1;33m             \u001b[0mself\u001b[0m\u001b[1;33m.\u001b[0m\u001b[0m_handle_result\u001b[0m\u001b[1;33m(\u001b[0m\u001b[0mself\u001b[0m\u001b[1;33m.\u001b[0m\u001b[0m_connection\u001b[0m\u001b[1;33m.\u001b[0m\u001b[0mcmd_query\u001b[0m\u001b[1;33m(\u001b[0m\u001b[0mstmt\u001b[0m\u001b[1;33m)\u001b[0m\u001b[1;33m)\u001b[0m\u001b[1;33m\u001b[0m\u001b[1;33m\u001b[0m\u001b[0m\n\u001b[0m\u001b[0;32m    569\u001b[0m         \u001b[1;32mexcept\u001b[0m \u001b[0merrors\u001b[0m\u001b[1;33m.\u001b[0m\u001b[0mInterfaceError\u001b[0m\u001b[1;33m:\u001b[0m\u001b[1;33m\u001b[0m\u001b[1;33m\u001b[0m\u001b[0m\n\u001b[0;32m    570\u001b[0m             \u001b[1;32mif\u001b[0m \u001b[0mself\u001b[0m\u001b[1;33m.\u001b[0m\u001b[0m_connection\u001b[0m\u001b[1;33m.\u001b[0m\u001b[0m_have_next_result\u001b[0m\u001b[1;33m:\u001b[0m  \u001b[1;31m# pylint: disable=W0212\u001b[0m\u001b[1;33m\u001b[0m\u001b[1;33m\u001b[0m\u001b[0m\n",
      "\u001b[1;32m~\\anaconda3\\envs\\webScraping\\lib\\site-packages\\mysql\\connector\\connection.py\u001b[0m in \u001b[0;36mcmd_query\u001b[1;34m(self, query, raw, buffered, raw_as_string)\u001b[0m\n\u001b[0;32m    844\u001b[0m         \u001b[0mquery\u001b[0m \u001b[1;33m=\u001b[0m \u001b[0mbytes\u001b[0m\u001b[1;33m(\u001b[0m\u001b[0mpacket\u001b[0m\u001b[1;33m)\u001b[0m\u001b[1;33m\u001b[0m\u001b[1;33m\u001b[0m\u001b[0m\n\u001b[0;32m    845\u001b[0m         \u001b[1;32mtry\u001b[0m\u001b[1;33m:\u001b[0m\u001b[1;33m\u001b[0m\u001b[1;33m\u001b[0m\u001b[0m\n\u001b[1;32m--> 846\u001b[1;33m             \u001b[0mresult\u001b[0m \u001b[1;33m=\u001b[0m \u001b[0mself\u001b[0m\u001b[1;33m.\u001b[0m\u001b[0m_handle_result\u001b[0m\u001b[1;33m(\u001b[0m\u001b[0mself\u001b[0m\u001b[1;33m.\u001b[0m\u001b[0m_send_cmd\u001b[0m\u001b[1;33m(\u001b[0m\u001b[0mServerCmd\u001b[0m\u001b[1;33m.\u001b[0m\u001b[0mQUERY\u001b[0m\u001b[1;33m,\u001b[0m \u001b[0mquery\u001b[0m\u001b[1;33m)\u001b[0m\u001b[1;33m)\u001b[0m\u001b[1;33m\u001b[0m\u001b[1;33m\u001b[0m\u001b[0m\n\u001b[0m\u001b[0;32m    847\u001b[0m         \u001b[1;32mexcept\u001b[0m \u001b[0merrors\u001b[0m\u001b[1;33m.\u001b[0m\u001b[0mProgrammingError\u001b[0m \u001b[1;32mas\u001b[0m \u001b[0merr\u001b[0m\u001b[1;33m:\u001b[0m\u001b[1;33m\u001b[0m\u001b[1;33m\u001b[0m\u001b[0m\n\u001b[0;32m    848\u001b[0m             \u001b[1;32mif\u001b[0m \u001b[0merr\u001b[0m\u001b[1;33m.\u001b[0m\u001b[0merrno\u001b[0m \u001b[1;33m==\u001b[0m \u001b[1;36m3948\u001b[0m \u001b[1;32mand\u001b[0m\u001b[0;31m \u001b[0m\u001b[0;31m\\\u001b[0m\u001b[1;33m\u001b[0m\u001b[1;33m\u001b[0m\u001b[0m\n",
      "\u001b[1;32m~\\anaconda3\\envs\\webScraping\\lib\\site-packages\\mysql\\connector\\connection.py\u001b[0m in \u001b[0;36m_handle_result\u001b[1;34m(self, packet)\u001b[0m\n\u001b[0;32m    654\u001b[0m             \u001b[1;32mreturn\u001b[0m \u001b[0mself\u001b[0m\u001b[1;33m.\u001b[0m\u001b[0m_handle_eof\u001b[0m\u001b[1;33m(\u001b[0m\u001b[0mpacket\u001b[0m\u001b[1;33m)\u001b[0m\u001b[1;33m\u001b[0m\u001b[1;33m\u001b[0m\u001b[0m\n\u001b[0;32m    655\u001b[0m         \u001b[1;32melif\u001b[0m \u001b[0mpacket\u001b[0m\u001b[1;33m[\u001b[0m\u001b[1;36m4\u001b[0m\u001b[1;33m]\u001b[0m \u001b[1;33m==\u001b[0m \u001b[1;36m255\u001b[0m\u001b[1;33m:\u001b[0m\u001b[1;33m\u001b[0m\u001b[1;33m\u001b[0m\u001b[0m\n\u001b[1;32m--> 656\u001b[1;33m             \u001b[1;32mraise\u001b[0m \u001b[0merrors\u001b[0m\u001b[1;33m.\u001b[0m\u001b[0mget_exception\u001b[0m\u001b[1;33m(\u001b[0m\u001b[0mpacket\u001b[0m\u001b[1;33m)\u001b[0m\u001b[1;33m\u001b[0m\u001b[1;33m\u001b[0m\u001b[0m\n\u001b[0m\u001b[0;32m    657\u001b[0m \u001b[1;33m\u001b[0m\u001b[0m\n\u001b[0;32m    658\u001b[0m         \u001b[1;31m# We have a text result set\u001b[0m\u001b[1;33m\u001b[0m\u001b[1;33m\u001b[0m\u001b[1;33m\u001b[0m\u001b[0m\n",
      "\u001b[1;31mDatabaseError\u001b[0m: 1205 (HY000): Lock wait timeout exceeded; try restarting transaction"
     ]
    }
   ],
   "source": [
    "# for i in range(len(judm_text)):\n",
    "query1 = \"UPDATE `shaima_aljahani` SET `case_judgement_text`= '{}' WHERE `id`={}\" .format(judm_text[0],1)\n",
    "mycursor.execute(query1)\n",
    "# db.commit()"
   ]
  }
 ],
 "metadata": {
  "kernelspec": {
   "display_name": "Python 3",
   "language": "python",
   "name": "python3"
  },
  "language_info": {
   "codemirror_mode": {
    "name": "ipython",
    "version": 3
   },
   "file_extension": ".py",
   "mimetype": "text/x-python",
   "name": "python",
   "nbconvert_exporter": "python",
   "pygments_lexer": "ipython3",
   "version": "3.7.10"
  }
 },
 "nbformat": 4,
 "nbformat_minor": 5
}
