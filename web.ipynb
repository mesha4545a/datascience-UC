{
 "cells": [
  {
   "cell_type": "markdown",
   "id": "abcf1cfa-2c06-44b8-8866-c73a84c5defe",
   "metadata": {},
   "source": [
    "# Web Page Exercise #"
   ]
  },
  {
   "cell_type": "markdown",
   "id": "e2d357e3-6f50-461f-82de-1315d4c34771",
   "metadata": {},
   "source": [
    "### Libraries ###"
   ]
  },
  {
   "cell_type": "code",
   "execution_count": 1,
   "id": "4d5ea42a-df18-439d-9d81-3c4baa0c6f6b",
   "metadata": {},
   "outputs": [],
   "source": [
    "#libraries \n",
    "from selenium import webdriver\n",
    "from selenium.webdriver.chrome.options import Options\n",
    "import time\n",
    "import urllib.request, urllib.error, urllib.parse"
   ]
  },
  {
   "cell_type": "markdown",
   "id": "4ba6d51a-7198-442c-b8d2-b6b8a788d764",
   "metadata": {},
   "source": [
    "### ScreenShot Function ###"
   ]
  },
  {
   "cell_type": "code",
   "execution_count": 2,
   "id": "8fa634d3-c948-4efa-bf8a-d436f6c119bc",
   "metadata": {},
   "outputs": [],
   "source": [
    "# screenShot\n",
    "def getscreenshotourl(url):\n",
    "    #set the webdriver\n",
    "    options = webdriver.ChromeOptions()\n",
    "    options.headless = True\n",
    "    driver = webdriver.Chrome(options=options)\n",
    "    #visit the webpage\n",
    "    driver.get(url)\n",
    "    time.sleep(5)\n",
    "    #Set size\n",
    "    S = lambda X: driver.execute_script('return document.body.parentNode.scroll'+X)\n",
    "    driver.set_window_size(S('Width'),S('Height')) # May need manual adjustment   \n",
    "    #Tacke screenshot\n",
    "    driver.find_element_by_tag_name('body').screenshot('web_screenshot.png')\n",
    "    \n",
    "    time.sleep(5)\n",
    "    driver.quit()"
   ]
  },
  {
   "cell_type": "markdown",
   "id": "357932bc-6b6c-41d4-aa8a-7abba4630a59",
   "metadata": {},
   "source": [
    "### Web Page Download Function ###"
   ]
  },
  {
   "cell_type": "code",
   "execution_count": 68,
   "id": "8640aed0-1f26-48be-a0de-a08b40d855e3",
   "metadata": {},
   "outputs": [],
   "source": [
    "#webpage\n",
    "def getwebshoot(url):\n",
    "    #visit the web page\n",
    "    response = urllib.request.urlopen(url)\n",
    "    #read the content\n",
    "    webContent = response.read()\n",
    "    # create the html file\n",
    "    f = open('web_page.html', 'wb')\n",
    "    # write to the html file \n",
    "    f.write(webContent)\n",
    "    f.close"
   ]
  },
  {
   "cell_type": "markdown",
   "id": "dd0ce320-0eac-4d59-918f-35019119fa4a",
   "metadata": {},
   "source": [
    "### Call Functions ###"
   ]
  },
  {
   "cell_type": "code",
   "execution_count": 3,
   "id": "86cf06c2-c26e-4517-b559-37ad3e57c64c",
   "metadata": {},
   "outputs": [],
   "source": [
    "getscreenshotourl(\"https://www.cases.sheriahub.com/\")\n",
    "getwebshoot(\"https://www.cases.sheriahub.com/\")"
   ]
  }
 ],
 "metadata": {
  "kernelspec": {
   "display_name": "Python 3",
   "language": "python",
   "name": "python3"
  },
  "language_info": {
   "codemirror_mode": {
    "name": "ipython",
    "version": 3
   },
   "file_extension": ".py",
   "mimetype": "text/x-python",
   "name": "python",
   "nbconvert_exporter": "python",
   "pygments_lexer": "ipython3",
   "version": "3.7.10"
  }
 },
 "nbformat": 4,
 "nbformat_minor": 5
}
